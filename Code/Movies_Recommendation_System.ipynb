{
 "cells": [
  {
   "cell_type": "markdown",
   "id": "ba035031",
   "metadata": {},
   "source": [
    "## **Milestone 1: Data Collection & Preparation**"
   ]
  },
  {
   "cell_type": "code",
   "execution_count": 90,
   "id": "36ae9205",
   "metadata": {},
   "outputs": [],
   "source": [
    "import pandas as pd\n",
    "import numpy as np\n",
    "import matplotlib.pyplot as plt\n",
    "import seaborn as sns"
   ]
  },
  {
   "cell_type": "code",
   "execution_count": 91,
   "id": "f8aafe86",
   "metadata": {},
   "outputs": [],
   "source": [
    "movies = pd.read_csv(\"data/movies.csv\", low_memory=False)"
   ]
  },
  {
   "cell_type": "markdown",
   "id": "79afadd3",
   "metadata": {},
   "source": [
    "### **Movies:**"
   ]
  },
  {
   "cell_type": "code",
   "execution_count": 92,
   "id": "a882c53d",
   "metadata": {},
   "outputs": [
    {
     "data": {
      "application/vnd.microsoft.datawrangler.viewer.v0+json": {
       "columns": [
        {
         "name": "index",
         "rawType": "int64",
         "type": "integer"
        },
        {
         "name": "adult",
         "rawType": "object",
         "type": "string"
        },
        {
         "name": "belongs_to_collection",
         "rawType": "object",
         "type": "unknown"
        },
        {
         "name": "budget",
         "rawType": "object",
         "type": "string"
        },
        {
         "name": "genres",
         "rawType": "object",
         "type": "string"
        },
        {
         "name": "homepage",
         "rawType": "object",
         "type": "unknown"
        },
        {
         "name": "id",
         "rawType": "object",
         "type": "string"
        },
        {
         "name": "imdb_id",
         "rawType": "object",
         "type": "string"
        },
        {
         "name": "original_language",
         "rawType": "object",
         "type": "string"
        },
        {
         "name": "original_title",
         "rawType": "object",
         "type": "string"
        },
        {
         "name": "overview",
         "rawType": "object",
         "type": "string"
        },
        {
         "name": "popularity",
         "rawType": "object",
         "type": "string"
        },
        {
         "name": "poster_path",
         "rawType": "object",
         "type": "string"
        },
        {
         "name": "production_companies",
         "rawType": "object",
         "type": "string"
        },
        {
         "name": "production_countries",
         "rawType": "object",
         "type": "string"
        },
        {
         "name": "release_date",
         "rawType": "object",
         "type": "string"
        },
        {
         "name": "revenue",
         "rawType": "float64",
         "type": "float"
        },
        {
         "name": "runtime",
         "rawType": "float64",
         "type": "float"
        },
        {
         "name": "spoken_languages",
         "rawType": "object",
         "type": "string"
        },
        {
         "name": "status",
         "rawType": "object",
         "type": "string"
        },
        {
         "name": "tagline",
         "rawType": "object",
         "type": "unknown"
        },
        {
         "name": "title",
         "rawType": "object",
         "type": "string"
        },
        {
         "name": "video",
         "rawType": "object",
         "type": "unknown"
        },
        {
         "name": "vote_average",
         "rawType": "float64",
         "type": "float"
        },
        {
         "name": "vote_count",
         "rawType": "float64",
         "type": "float"
        }
       ],
       "ref": "150984be-076e-47a9-9b77-a9bd364a98af",
       "rows": [
        [
         "0",
         "False",
         "{'id': 10194, 'name': 'Toy Story Collection', 'poster_path': '/7G9915LfUQ2lVfwMEEhDsn3kT4B.jpg', 'backdrop_path': '/9FBwqcd9IRruEDUrTdcaafOMKUq.jpg'}",
         "30000000",
         "[{'id': 16, 'name': 'Animation'}, {'id': 35, 'name': 'Comedy'}, {'id': 10751, 'name': 'Family'}]",
         "http://toystory.disney.com/toy-story",
         "862",
         "tt0114709",
         "en",
         "Toy Story",
         "Led by Woody, Andy's toys live happily in his room until Andy's birthday brings Buzz Lightyear onto the scene. Afraid of losing his place in Andy's heart, Woody plots against Buzz. But when circumstances separate Buzz and Woody from their owner, the duo eventually learns to put aside their differences.",
         "21.946943",
         "/rhIRbceoE9lR4veEXuwCC2wARtG.jpg",
         "[{'name': 'Pixar Animation Studios', 'id': 3}]",
         "[{'iso_3166_1': 'US', 'name': 'United States of America'}]",
         "1995-10-30",
         "373554033.0",
         "81.0",
         "[{'iso_639_1': 'en', 'name': 'English'}]",
         "Released",
         null,
         "Toy Story",
         "False",
         "7.7",
         "5415.0"
        ],
        [
         "1",
         "False",
         null,
         "65000000",
         "[{'id': 12, 'name': 'Adventure'}, {'id': 14, 'name': 'Fantasy'}, {'id': 10751, 'name': 'Family'}]",
         null,
         "8844",
         "tt0113497",
         "en",
         "Jumanji",
         "When siblings Judy and Peter discover an enchanted board game that opens the door to a magical world, they unwittingly invite Alan -- an adult who's been trapped inside the game for 26 years -- into their living room. Alan's only hope for freedom is to finish the game, which proves risky as all three find themselves running from giant rhinoceroses, evil monkeys and other terrifying creatures.",
         "17.015539",
         "/vzmL6fP7aPKNKPRTFnZmiUfciyV.jpg",
         "[{'name': 'TriStar Pictures', 'id': 559}, {'name': 'Teitler Film', 'id': 2550}, {'name': 'Interscope Communications', 'id': 10201}]",
         "[{'iso_3166_1': 'US', 'name': 'United States of America'}]",
         "1995-12-15",
         "262797249.0",
         "104.0",
         "[{'iso_639_1': 'en', 'name': 'English'}, {'iso_639_1': 'fr', 'name': 'Français'}]",
         "Released",
         "Roll the dice and unleash the excitement!",
         "Jumanji",
         "False",
         "6.9",
         "2413.0"
        ],
        [
         "2",
         "False",
         "{'id': 119050, 'name': 'Grumpy Old Men Collection', 'poster_path': '/nLvUdqgPgm3F85NMCii9gVFUcet.jpg', 'backdrop_path': '/hypTnLot2z8wpFS7qwsQHW1uV8u.jpg'}",
         "0",
         "[{'id': 10749, 'name': 'Romance'}, {'id': 35, 'name': 'Comedy'}]",
         null,
         "15602",
         "tt0113228",
         "en",
         "Grumpier Old Men",
         "A family wedding reignites the ancient feud between next-door neighbors and fishing buddies John and Max. Meanwhile, a sultry Italian divorcée opens a restaurant at the local bait shop, alarming the locals who worry she'll scare the fish away. But she's less interested in seafood than she is in cooking up a hot time with Max.",
         "11.7129",
         "/6ksm1sjKMFLbO7UY2i6G1ju9SML.jpg",
         "[{'name': 'Warner Bros.', 'id': 6194}, {'name': 'Lancaster Gate', 'id': 19464}]",
         "[{'iso_3166_1': 'US', 'name': 'United States of America'}]",
         "1995-12-22",
         "0.0",
         "101.0",
         "[{'iso_639_1': 'en', 'name': 'English'}]",
         "Released",
         "Still Yelling. Still Fighting. Still Ready for Love.",
         "Grumpier Old Men",
         "False",
         "6.5",
         "92.0"
        ],
        [
         "3",
         "False",
         null,
         "16000000",
         "[{'id': 35, 'name': 'Comedy'}, {'id': 18, 'name': 'Drama'}, {'id': 10749, 'name': 'Romance'}]",
         null,
         "31357",
         "tt0114885",
         "en",
         "Waiting to Exhale",
         "Cheated on, mistreated and stepped on, the women are holding their breath, waiting for the elusive \"good man\" to break a string of less-than-stellar lovers. Friends and confidants Vannah, Bernie, Glo and Robin talk it all out, determined to find a better way to breathe.",
         "3.859495",
         "/16XOMpEaLWkrcPqSQqhTmeJuqQl.jpg",
         "[{'name': 'Twentieth Century Fox Film Corporation', 'id': 306}]",
         "[{'iso_3166_1': 'US', 'name': 'United States of America'}]",
         "1995-12-22",
         "81452156.0",
         "127.0",
         "[{'iso_639_1': 'en', 'name': 'English'}]",
         "Released",
         "Friends are the people who let you be yourself... and never let you forget it.",
         "Waiting to Exhale",
         "False",
         "6.1",
         "34.0"
        ],
        [
         "4",
         "False",
         "{'id': 96871, 'name': 'Father of the Bride Collection', 'poster_path': '/nts4iOmNnq7GNicycMJ9pSAn204.jpg', 'backdrop_path': '/7qwE57OVZmMJChBpLEbJEmzUydk.jpg'}",
         "0",
         "[{'id': 35, 'name': 'Comedy'}]",
         null,
         "11862",
         "tt0113041",
         "en",
         "Father of the Bride Part II",
         "Just when George Banks has recovered from his daughter's wedding, he receives the news that she's pregnant ... and that George's wife, Nina, is expecting too. He was planning on selling their home, but that's a plan that -- like George -- will have to change with the arrival of both a grandchild and a kid of his own.",
         "8.387519",
         "/e64sOI48hQXyru7naBFyssKFxVd.jpg",
         "[{'name': 'Sandollar Productions', 'id': 5842}, {'name': 'Touchstone Pictures', 'id': 9195}]",
         "[{'iso_3166_1': 'US', 'name': 'United States of America'}]",
         "1995-02-10",
         "76578911.0",
         "106.0",
         "[{'iso_639_1': 'en', 'name': 'English'}]",
         "Released",
         "Just When His World Is Back To Normal... He's In For The Surprise Of His Life!",
         "Father of the Bride Part II",
         "False",
         "5.7",
         "173.0"
        ]
       ],
       "shape": {
        "columns": 24,
        "rows": 5
       }
      },
      "text/html": [
       "<div>\n",
       "<style scoped>\n",
       "    .dataframe tbody tr th:only-of-type {\n",
       "        vertical-align: middle;\n",
       "    }\n",
       "\n",
       "    .dataframe tbody tr th {\n",
       "        vertical-align: top;\n",
       "    }\n",
       "\n",
       "    .dataframe thead th {\n",
       "        text-align: right;\n",
       "    }\n",
       "</style>\n",
       "<table border=\"1\" class=\"dataframe\">\n",
       "  <thead>\n",
       "    <tr style=\"text-align: right;\">\n",
       "      <th></th>\n",
       "      <th>adult</th>\n",
       "      <th>belongs_to_collection</th>\n",
       "      <th>budget</th>\n",
       "      <th>genres</th>\n",
       "      <th>homepage</th>\n",
       "      <th>id</th>\n",
       "      <th>imdb_id</th>\n",
       "      <th>original_language</th>\n",
       "      <th>original_title</th>\n",
       "      <th>overview</th>\n",
       "      <th>...</th>\n",
       "      <th>release_date</th>\n",
       "      <th>revenue</th>\n",
       "      <th>runtime</th>\n",
       "      <th>spoken_languages</th>\n",
       "      <th>status</th>\n",
       "      <th>tagline</th>\n",
       "      <th>title</th>\n",
       "      <th>video</th>\n",
       "      <th>vote_average</th>\n",
       "      <th>vote_count</th>\n",
       "    </tr>\n",
       "  </thead>\n",
       "  <tbody>\n",
       "    <tr>\n",
       "      <th>0</th>\n",
       "      <td>False</td>\n",
       "      <td>{'id': 10194, 'name': 'Toy Story Collection', ...</td>\n",
       "      <td>30000000</td>\n",
       "      <td>[{'id': 16, 'name': 'Animation'}, {'id': 35, '...</td>\n",
       "      <td>http://toystory.disney.com/toy-story</td>\n",
       "      <td>862</td>\n",
       "      <td>tt0114709</td>\n",
       "      <td>en</td>\n",
       "      <td>Toy Story</td>\n",
       "      <td>Led by Woody, Andy's toys live happily in his ...</td>\n",
       "      <td>...</td>\n",
       "      <td>1995-10-30</td>\n",
       "      <td>373554033.0</td>\n",
       "      <td>81.0</td>\n",
       "      <td>[{'iso_639_1': 'en', 'name': 'English'}]</td>\n",
       "      <td>Released</td>\n",
       "      <td>NaN</td>\n",
       "      <td>Toy Story</td>\n",
       "      <td>False</td>\n",
       "      <td>7.7</td>\n",
       "      <td>5415.0</td>\n",
       "    </tr>\n",
       "    <tr>\n",
       "      <th>1</th>\n",
       "      <td>False</td>\n",
       "      <td>NaN</td>\n",
       "      <td>65000000</td>\n",
       "      <td>[{'id': 12, 'name': 'Adventure'}, {'id': 14, '...</td>\n",
       "      <td>NaN</td>\n",
       "      <td>8844</td>\n",
       "      <td>tt0113497</td>\n",
       "      <td>en</td>\n",
       "      <td>Jumanji</td>\n",
       "      <td>When siblings Judy and Peter discover an encha...</td>\n",
       "      <td>...</td>\n",
       "      <td>1995-12-15</td>\n",
       "      <td>262797249.0</td>\n",
       "      <td>104.0</td>\n",
       "      <td>[{'iso_639_1': 'en', 'name': 'English'}, {'iso...</td>\n",
       "      <td>Released</td>\n",
       "      <td>Roll the dice and unleash the excitement!</td>\n",
       "      <td>Jumanji</td>\n",
       "      <td>False</td>\n",
       "      <td>6.9</td>\n",
       "      <td>2413.0</td>\n",
       "    </tr>\n",
       "    <tr>\n",
       "      <th>2</th>\n",
       "      <td>False</td>\n",
       "      <td>{'id': 119050, 'name': 'Grumpy Old Men Collect...</td>\n",
       "      <td>0</td>\n",
       "      <td>[{'id': 10749, 'name': 'Romance'}, {'id': 35, ...</td>\n",
       "      <td>NaN</td>\n",
       "      <td>15602</td>\n",
       "      <td>tt0113228</td>\n",
       "      <td>en</td>\n",
       "      <td>Grumpier Old Men</td>\n",
       "      <td>A family wedding reignites the ancient feud be...</td>\n",
       "      <td>...</td>\n",
       "      <td>1995-12-22</td>\n",
       "      <td>0.0</td>\n",
       "      <td>101.0</td>\n",
       "      <td>[{'iso_639_1': 'en', 'name': 'English'}]</td>\n",
       "      <td>Released</td>\n",
       "      <td>Still Yelling. Still Fighting. Still Ready for...</td>\n",
       "      <td>Grumpier Old Men</td>\n",
       "      <td>False</td>\n",
       "      <td>6.5</td>\n",
       "      <td>92.0</td>\n",
       "    </tr>\n",
       "    <tr>\n",
       "      <th>3</th>\n",
       "      <td>False</td>\n",
       "      <td>NaN</td>\n",
       "      <td>16000000</td>\n",
       "      <td>[{'id': 35, 'name': 'Comedy'}, {'id': 18, 'nam...</td>\n",
       "      <td>NaN</td>\n",
       "      <td>31357</td>\n",
       "      <td>tt0114885</td>\n",
       "      <td>en</td>\n",
       "      <td>Waiting to Exhale</td>\n",
       "      <td>Cheated on, mistreated and stepped on, the wom...</td>\n",
       "      <td>...</td>\n",
       "      <td>1995-12-22</td>\n",
       "      <td>81452156.0</td>\n",
       "      <td>127.0</td>\n",
       "      <td>[{'iso_639_1': 'en', 'name': 'English'}]</td>\n",
       "      <td>Released</td>\n",
       "      <td>Friends are the people who let you be yourself...</td>\n",
       "      <td>Waiting to Exhale</td>\n",
       "      <td>False</td>\n",
       "      <td>6.1</td>\n",
       "      <td>34.0</td>\n",
       "    </tr>\n",
       "    <tr>\n",
       "      <th>4</th>\n",
       "      <td>False</td>\n",
       "      <td>{'id': 96871, 'name': 'Father of the Bride Col...</td>\n",
       "      <td>0</td>\n",
       "      <td>[{'id': 35, 'name': 'Comedy'}]</td>\n",
       "      <td>NaN</td>\n",
       "      <td>11862</td>\n",
       "      <td>tt0113041</td>\n",
       "      <td>en</td>\n",
       "      <td>Father of the Bride Part II</td>\n",
       "      <td>Just when George Banks has recovered from his ...</td>\n",
       "      <td>...</td>\n",
       "      <td>1995-02-10</td>\n",
       "      <td>76578911.0</td>\n",
       "      <td>106.0</td>\n",
       "      <td>[{'iso_639_1': 'en', 'name': 'English'}]</td>\n",
       "      <td>Released</td>\n",
       "      <td>Just When His World Is Back To Normal... He's ...</td>\n",
       "      <td>Father of the Bride Part II</td>\n",
       "      <td>False</td>\n",
       "      <td>5.7</td>\n",
       "      <td>173.0</td>\n",
       "    </tr>\n",
       "  </tbody>\n",
       "</table>\n",
       "<p>5 rows × 24 columns</p>\n",
       "</div>"
      ],
      "text/plain": [
       "   adult                              belongs_to_collection    budget  \\\n",
       "0  False  {'id': 10194, 'name': 'Toy Story Collection', ...  30000000   \n",
       "1  False                                                NaN  65000000   \n",
       "2  False  {'id': 119050, 'name': 'Grumpy Old Men Collect...         0   \n",
       "3  False                                                NaN  16000000   \n",
       "4  False  {'id': 96871, 'name': 'Father of the Bride Col...         0   \n",
       "\n",
       "                                              genres  \\\n",
       "0  [{'id': 16, 'name': 'Animation'}, {'id': 35, '...   \n",
       "1  [{'id': 12, 'name': 'Adventure'}, {'id': 14, '...   \n",
       "2  [{'id': 10749, 'name': 'Romance'}, {'id': 35, ...   \n",
       "3  [{'id': 35, 'name': 'Comedy'}, {'id': 18, 'nam...   \n",
       "4                     [{'id': 35, 'name': 'Comedy'}]   \n",
       "\n",
       "                               homepage     id    imdb_id original_language  \\\n",
       "0  http://toystory.disney.com/toy-story    862  tt0114709                en   \n",
       "1                                   NaN   8844  tt0113497                en   \n",
       "2                                   NaN  15602  tt0113228                en   \n",
       "3                                   NaN  31357  tt0114885                en   \n",
       "4                                   NaN  11862  tt0113041                en   \n",
       "\n",
       "                original_title  \\\n",
       "0                    Toy Story   \n",
       "1                      Jumanji   \n",
       "2             Grumpier Old Men   \n",
       "3            Waiting to Exhale   \n",
       "4  Father of the Bride Part II   \n",
       "\n",
       "                                            overview  ... release_date  \\\n",
       "0  Led by Woody, Andy's toys live happily in his ...  ...   1995-10-30   \n",
       "1  When siblings Judy and Peter discover an encha...  ...   1995-12-15   \n",
       "2  A family wedding reignites the ancient feud be...  ...   1995-12-22   \n",
       "3  Cheated on, mistreated and stepped on, the wom...  ...   1995-12-22   \n",
       "4  Just when George Banks has recovered from his ...  ...   1995-02-10   \n",
       "\n",
       "       revenue runtime                                   spoken_languages  \\\n",
       "0  373554033.0    81.0           [{'iso_639_1': 'en', 'name': 'English'}]   \n",
       "1  262797249.0   104.0  [{'iso_639_1': 'en', 'name': 'English'}, {'iso...   \n",
       "2          0.0   101.0           [{'iso_639_1': 'en', 'name': 'English'}]   \n",
       "3   81452156.0   127.0           [{'iso_639_1': 'en', 'name': 'English'}]   \n",
       "4   76578911.0   106.0           [{'iso_639_1': 'en', 'name': 'English'}]   \n",
       "\n",
       "     status                                            tagline  \\\n",
       "0  Released                                                NaN   \n",
       "1  Released          Roll the dice and unleash the excitement!   \n",
       "2  Released  Still Yelling. Still Fighting. Still Ready for...   \n",
       "3  Released  Friends are the people who let you be yourself...   \n",
       "4  Released  Just When His World Is Back To Normal... He's ...   \n",
       "\n",
       "                         title  video vote_average vote_count  \n",
       "0                    Toy Story  False          7.7     5415.0  \n",
       "1                      Jumanji  False          6.9     2413.0  \n",
       "2             Grumpier Old Men  False          6.5       92.0  \n",
       "3            Waiting to Exhale  False          6.1       34.0  \n",
       "4  Father of the Bride Part II  False          5.7      173.0  \n",
       "\n",
       "[5 rows x 24 columns]"
      ]
     },
     "execution_count": 92,
     "metadata": {},
     "output_type": "execute_result"
    }
   ],
   "source": [
    "movies.head()"
   ]
  },
  {
   "cell_type": "code",
   "execution_count": 93,
   "id": "3197183c",
   "metadata": {},
   "outputs": [
    {
     "name": "stdout",
     "output_type": "stream",
     "text": [
      "<class 'pandas.core.frame.DataFrame'>\n",
      "RangeIndex: 45466 entries, 0 to 45465\n",
      "Data columns (total 24 columns):\n",
      " #   Column                 Non-Null Count  Dtype  \n",
      "---  ------                 --------------  -----  \n",
      " 0   adult                  45466 non-null  object \n",
      " 1   belongs_to_collection  4494 non-null   object \n",
      " 2   budget                 45466 non-null  object \n",
      " 3   genres                 45466 non-null  object \n",
      " 4   homepage               7782 non-null   object \n",
      " 5   id                     45466 non-null  object \n",
      " 6   imdb_id                45449 non-null  object \n",
      " 7   original_language      45455 non-null  object \n",
      " 8   original_title         45466 non-null  object \n",
      " 9   overview               44512 non-null  object \n",
      " 10  popularity             45461 non-null  object \n",
      " 11  poster_path            45080 non-null  object \n",
      " 12  production_companies   45463 non-null  object \n",
      " 13  production_countries   45463 non-null  object \n",
      " 14  release_date           45379 non-null  object \n",
      " 15  revenue                45460 non-null  float64\n",
      " 16  runtime                45203 non-null  float64\n",
      " 17  spoken_languages       45460 non-null  object \n",
      " 18  status                 45379 non-null  object \n",
      " 19  tagline                20412 non-null  object \n",
      " 20  title                  45460 non-null  object \n",
      " 21  video                  45460 non-null  object \n",
      " 22  vote_average           45460 non-null  float64\n",
      " 23  vote_count             45460 non-null  float64\n",
      "dtypes: float64(4), object(20)\n",
      "memory usage: 8.3+ MB\n"
     ]
    }
   ],
   "source": [
    "movies.info()"
   ]
  },
  {
   "cell_type": "code",
   "execution_count": 94,
   "id": "aa80c6ec",
   "metadata": {},
   "outputs": [],
   "source": [
    "movies.drop(columns=[\"belongs_to_collection\",\"homepage\",\"production_companies\",\"spoken_languages\",\"original_title\",\"video\",\"tagline\"], inplace=True)"
   ]
  },
  {
   "cell_type": "code",
   "execution_count": 95,
   "id": "dd15918d",
   "metadata": {},
   "outputs": [
    {
     "data": {
      "application/vnd.microsoft.datawrangler.viewer.v0+json": {
       "columns": [
        {
         "name": "index",
         "rawType": "object",
         "type": "string"
        },
        {
         "name": "0",
         "rawType": "int64",
         "type": "integer"
        }
       ],
       "ref": "86ff61fb-4701-4868-a0c5-a1965dc91a61",
       "rows": [
        [
         "adult",
         "0"
        ],
        [
         "budget",
         "0"
        ],
        [
         "genres",
         "0"
        ],
        [
         "id",
         "0"
        ],
        [
         "imdb_id",
         "17"
        ],
        [
         "original_language",
         "11"
        ],
        [
         "overview",
         "954"
        ],
        [
         "popularity",
         "5"
        ],
        [
         "poster_path",
         "386"
        ],
        [
         "production_countries",
         "3"
        ],
        [
         "release_date",
         "87"
        ],
        [
         "revenue",
         "6"
        ],
        [
         "runtime",
         "263"
        ],
        [
         "status",
         "87"
        ],
        [
         "title",
         "6"
        ],
        [
         "vote_average",
         "6"
        ],
        [
         "vote_count",
         "6"
        ]
       ],
       "shape": {
        "columns": 1,
        "rows": 17
       }
      },
      "text/plain": [
       "adult                     0\n",
       "budget                    0\n",
       "genres                    0\n",
       "id                        0\n",
       "imdb_id                  17\n",
       "original_language        11\n",
       "overview                954\n",
       "popularity                5\n",
       "poster_path             386\n",
       "production_countries      3\n",
       "release_date             87\n",
       "revenue                   6\n",
       "runtime                 263\n",
       "status                   87\n",
       "title                     6\n",
       "vote_average              6\n",
       "vote_count                6\n",
       "dtype: int64"
      ]
     },
     "execution_count": 95,
     "metadata": {},
     "output_type": "execute_result"
    }
   ],
   "source": [
    "# missing values\n",
    "movies.isna().sum()"
   ]
  },
  {
   "cell_type": "code",
   "execution_count": 96,
   "id": "9a279b27",
   "metadata": {},
   "outputs": [],
   "source": [
    "movies.dropna(inplace=True)"
   ]
  },
  {
   "cell_type": "code",
   "execution_count": 97,
   "id": "daf4bd00",
   "metadata": {},
   "outputs": [
    {
     "data": {
      "text/plain": [
       "17"
      ]
     },
     "execution_count": 97,
     "metadata": {},
     "output_type": "execute_result"
    }
   ],
   "source": [
    "# duplicates\n",
    "movies.duplicated().sum()"
   ]
  },
  {
   "cell_type": "code",
   "execution_count": 98,
   "id": "0516cc42",
   "metadata": {},
   "outputs": [],
   "source": [
    "movies.drop_duplicates(inplace=True)"
   ]
  },
  {
   "cell_type": "code",
   "execution_count": 99,
   "id": "f587fdcb",
   "metadata": {},
   "outputs": [
    {
     "name": "stderr",
     "output_type": "stream",
     "text": [
      "C:\\Users\\eslam\\AppData\\Local\\Temp\\ipykernel_6596\\3026965908.py:2: FutureWarning: Downcasting behavior in `replace` is deprecated and will be removed in a future version. To retain the old behavior, explicitly call `result.infer_objects(copy=False)`. To opt-in to the future behavior, set `pd.set_option('future.no_silent_downcasting', True)`\n",
      "  movies[\"adult\"] = movies[\"adult\"].replace({\"True\": True, \"False\": False})\n"
     ]
    }
   ],
   "source": [
    "# prepare dtypes\n",
    "movies[\"adult\"] = movies[\"adult\"].replace({\"True\": True, \"False\": False})\n",
    "movies[\"budget\"] = movies[\"budget\"].astype(\"int32\")\n",
    "movies[\"id\"] = movies[\"id\"].astype(\"int32\")\n",
    "movies[\"imdb_id\"] = movies[\"imdb_id\"].astype(\"str\")\n",
    "movies[\"overview\"] = movies[\"overview\"].astype(\"str\")\n",
    "movies[\"popularity\"] = movies[\"popularity\"].astype(\"float16\")\n",
    "movies[\"release_date\"] = pd.to_datetime(movies[\"release_date\"])\n",
    "movies[\"release_year\"] = movies[\"release_date\"].dt.year\n",
    "movies[\"poster_path\"] = movies[\"poster_path\"].astype(\"str\")\n",
    "movies[\"revenue\"] = movies[\"revenue\"].astype(\"int32\")\n",
    "movies[\"runtime\"] = movies[\"runtime\"].astype(\"int16\")\n",
    "movies[\"status\"] = movies[\"status\"].astype(\"category\")\n",
    "movies[\"title\"] = movies[\"title\"].astype(\"str\")\n",
    "movies[\"vote_average\"] = movies[\"vote_average\"].astype(\"float16\")\n",
    "movies[\"vote_count\"] = movies[\"vote_count\"].astype(\"int16\")"
   ]
  },
  {
   "cell_type": "code",
   "execution_count": 100,
   "id": "f20cfe9a",
   "metadata": {},
   "outputs": [
    {
     "data": {
      "application/vnd.microsoft.datawrangler.viewer.v0+json": {
       "columns": [
        {
         "name": "index",
         "rawType": "int64",
         "type": "integer"
        },
        {
         "name": "adult",
         "rawType": "bool",
         "type": "boolean"
        },
        {
         "name": "budget",
         "rawType": "int32",
         "type": "integer"
        },
        {
         "name": "genres",
         "rawType": "object",
         "type": "string"
        },
        {
         "name": "id",
         "rawType": "int32",
         "type": "integer"
        },
        {
         "name": "imdb_id",
         "rawType": "object",
         "type": "string"
        },
        {
         "name": "original_language",
         "rawType": "object",
         "type": "string"
        },
        {
         "name": "overview",
         "rawType": "object",
         "type": "string"
        },
        {
         "name": "popularity",
         "rawType": "float16",
         "type": "float"
        },
        {
         "name": "poster_path",
         "rawType": "object",
         "type": "string"
        },
        {
         "name": "production_countries",
         "rawType": "object",
         "type": "string"
        },
        {
         "name": "release_date",
         "rawType": "datetime64[ns]",
         "type": "datetime"
        },
        {
         "name": "revenue",
         "rawType": "int32",
         "type": "integer"
        },
        {
         "name": "runtime",
         "rawType": "int16",
         "type": "integer"
        },
        {
         "name": "status",
         "rawType": "category",
         "type": "unknown"
        },
        {
         "name": "title",
         "rawType": "object",
         "type": "string"
        },
        {
         "name": "vote_average",
         "rawType": "float16",
         "type": "float"
        },
        {
         "name": "vote_count",
         "rawType": "int16",
         "type": "integer"
        },
        {
         "name": "release_year",
         "rawType": "int32",
         "type": "integer"
        }
       ],
       "ref": "df8b2c2d-7f2c-47e9-ac1d-47877be1f15c",
       "rows": [
        [
         "0",
         "False",
         "30000000",
         "[{'id': 16, 'name': 'Animation'}, {'id': 35, 'name': 'Comedy'}, {'id': 10751, 'name': 'Family'}]",
         "862",
         "tt0114709",
         "en",
         "Led by Woody, Andy's toys live happily in his room until Andy's birthday brings Buzz Lightyear onto the scene. Afraid of losing his place in Andy's heart, Woody plots against Buzz. But when circumstances separate Buzz and Woody from their owner, the duo eventually learns to put aside their differences.",
         "21.95",
         "/rhIRbceoE9lR4veEXuwCC2wARtG.jpg",
         "[{'iso_3166_1': 'US', 'name': 'United States of America'}]",
         "1995-10-30 00:00:00",
         "373554033",
         "81",
         "Released",
         "Toy Story",
         "7.7",
         "5415",
         "1995"
        ],
        [
         "1",
         "False",
         "65000000",
         "[{'id': 12, 'name': 'Adventure'}, {'id': 14, 'name': 'Fantasy'}, {'id': 10751, 'name': 'Family'}]",
         "8844",
         "tt0113497",
         "en",
         "When siblings Judy and Peter discover an enchanted board game that opens the door to a magical world, they unwittingly invite Alan -- an adult who's been trapped inside the game for 26 years -- into their living room. Alan's only hope for freedom is to finish the game, which proves risky as all three find themselves running from giant rhinoceroses, evil monkeys and other terrifying creatures.",
         "17.02",
         "/vzmL6fP7aPKNKPRTFnZmiUfciyV.jpg",
         "[{'iso_3166_1': 'US', 'name': 'United States of America'}]",
         "1995-12-15 00:00:00",
         "262797249",
         "104",
         "Released",
         "Jumanji",
         "6.9",
         "2413",
         "1995"
        ],
        [
         "2",
         "False",
         "0",
         "[{'id': 10749, 'name': 'Romance'}, {'id': 35, 'name': 'Comedy'}]",
         "15602",
         "tt0113228",
         "en",
         "A family wedding reignites the ancient feud between next-door neighbors and fishing buddies John and Max. Meanwhile, a sultry Italian divorcée opens a restaurant at the local bait shop, alarming the locals who worry she'll scare the fish away. But she's less interested in seafood than she is in cooking up a hot time with Max.",
         "11.71",
         "/6ksm1sjKMFLbO7UY2i6G1ju9SML.jpg",
         "[{'iso_3166_1': 'US', 'name': 'United States of America'}]",
         "1995-12-22 00:00:00",
         "0",
         "101",
         "Released",
         "Grumpier Old Men",
         "6.5",
         "92",
         "1995"
        ],
        [
         "3",
         "False",
         "16000000",
         "[{'id': 35, 'name': 'Comedy'}, {'id': 18, 'name': 'Drama'}, {'id': 10749, 'name': 'Romance'}]",
         "31357",
         "tt0114885",
         "en",
         "Cheated on, mistreated and stepped on, the women are holding their breath, waiting for the elusive \"good man\" to break a string of less-than-stellar lovers. Friends and confidants Vannah, Bernie, Glo and Robin talk it all out, determined to find a better way to breathe.",
         "3.86",
         "/16XOMpEaLWkrcPqSQqhTmeJuqQl.jpg",
         "[{'iso_3166_1': 'US', 'name': 'United States of America'}]",
         "1995-12-22 00:00:00",
         "81452156",
         "127",
         "Released",
         "Waiting to Exhale",
         "6.1",
         "34",
         "1995"
        ],
        [
         "4",
         "False",
         "0",
         "[{'id': 35, 'name': 'Comedy'}]",
         "11862",
         "tt0113041",
         "en",
         "Just when George Banks has recovered from his daughter's wedding, he receives the news that she's pregnant ... and that George's wife, Nina, is expecting too. He was planning on selling their home, but that's a plan that -- like George -- will have to change with the arrival of both a grandchild and a kid of his own.",
         "8.39",
         "/e64sOI48hQXyru7naBFyssKFxVd.jpg",
         "[{'iso_3166_1': 'US', 'name': 'United States of America'}]",
         "1995-02-10 00:00:00",
         "76578911",
         "106",
         "Released",
         "Father of the Bride Part II",
         "5.7",
         "173",
         "1995"
        ]
       ],
       "shape": {
        "columns": 18,
        "rows": 5
       }
      },
      "text/html": [
       "<div>\n",
       "<style scoped>\n",
       "    .dataframe tbody tr th:only-of-type {\n",
       "        vertical-align: middle;\n",
       "    }\n",
       "\n",
       "    .dataframe tbody tr th {\n",
       "        vertical-align: top;\n",
       "    }\n",
       "\n",
       "    .dataframe thead th {\n",
       "        text-align: right;\n",
       "    }\n",
       "</style>\n",
       "<table border=\"1\" class=\"dataframe\">\n",
       "  <thead>\n",
       "    <tr style=\"text-align: right;\">\n",
       "      <th></th>\n",
       "      <th>adult</th>\n",
       "      <th>budget</th>\n",
       "      <th>genres</th>\n",
       "      <th>id</th>\n",
       "      <th>imdb_id</th>\n",
       "      <th>original_language</th>\n",
       "      <th>overview</th>\n",
       "      <th>popularity</th>\n",
       "      <th>poster_path</th>\n",
       "      <th>production_countries</th>\n",
       "      <th>release_date</th>\n",
       "      <th>revenue</th>\n",
       "      <th>runtime</th>\n",
       "      <th>status</th>\n",
       "      <th>title</th>\n",
       "      <th>vote_average</th>\n",
       "      <th>vote_count</th>\n",
       "      <th>release_year</th>\n",
       "    </tr>\n",
       "  </thead>\n",
       "  <tbody>\n",
       "    <tr>\n",
       "      <th>0</th>\n",
       "      <td>False</td>\n",
       "      <td>30000000</td>\n",
       "      <td>[{'id': 16, 'name': 'Animation'}, {'id': 35, '...</td>\n",
       "      <td>862</td>\n",
       "      <td>tt0114709</td>\n",
       "      <td>en</td>\n",
       "      <td>Led by Woody, Andy's toys live happily in his ...</td>\n",
       "      <td>21.953125</td>\n",
       "      <td>/rhIRbceoE9lR4veEXuwCC2wARtG.jpg</td>\n",
       "      <td>[{'iso_3166_1': 'US', 'name': 'United States o...</td>\n",
       "      <td>1995-10-30</td>\n",
       "      <td>373554033</td>\n",
       "      <td>81</td>\n",
       "      <td>Released</td>\n",
       "      <td>Toy Story</td>\n",
       "      <td>7.699219</td>\n",
       "      <td>5415</td>\n",
       "      <td>1995</td>\n",
       "    </tr>\n",
       "    <tr>\n",
       "      <th>1</th>\n",
       "      <td>False</td>\n",
       "      <td>65000000</td>\n",
       "      <td>[{'id': 12, 'name': 'Adventure'}, {'id': 14, '...</td>\n",
       "      <td>8844</td>\n",
       "      <td>tt0113497</td>\n",
       "      <td>en</td>\n",
       "      <td>When siblings Judy and Peter discover an encha...</td>\n",
       "      <td>17.015625</td>\n",
       "      <td>/vzmL6fP7aPKNKPRTFnZmiUfciyV.jpg</td>\n",
       "      <td>[{'iso_3166_1': 'US', 'name': 'United States o...</td>\n",
       "      <td>1995-12-15</td>\n",
       "      <td>262797249</td>\n",
       "      <td>104</td>\n",
       "      <td>Released</td>\n",
       "      <td>Jumanji</td>\n",
       "      <td>6.898438</td>\n",
       "      <td>2413</td>\n",
       "      <td>1995</td>\n",
       "    </tr>\n",
       "    <tr>\n",
       "      <th>2</th>\n",
       "      <td>False</td>\n",
       "      <td>0</td>\n",
       "      <td>[{'id': 10749, 'name': 'Romance'}, {'id': 35, ...</td>\n",
       "      <td>15602</td>\n",
       "      <td>tt0113228</td>\n",
       "      <td>en</td>\n",
       "      <td>A family wedding reignites the ancient feud be...</td>\n",
       "      <td>11.710938</td>\n",
       "      <td>/6ksm1sjKMFLbO7UY2i6G1ju9SML.jpg</td>\n",
       "      <td>[{'iso_3166_1': 'US', 'name': 'United States o...</td>\n",
       "      <td>1995-12-22</td>\n",
       "      <td>0</td>\n",
       "      <td>101</td>\n",
       "      <td>Released</td>\n",
       "      <td>Grumpier Old Men</td>\n",
       "      <td>6.500000</td>\n",
       "      <td>92</td>\n",
       "      <td>1995</td>\n",
       "    </tr>\n",
       "    <tr>\n",
       "      <th>3</th>\n",
       "      <td>False</td>\n",
       "      <td>16000000</td>\n",
       "      <td>[{'id': 35, 'name': 'Comedy'}, {'id': 18, 'nam...</td>\n",
       "      <td>31357</td>\n",
       "      <td>tt0114885</td>\n",
       "      <td>en</td>\n",
       "      <td>Cheated on, mistreated and stepped on, the wom...</td>\n",
       "      <td>3.859375</td>\n",
       "      <td>/16XOMpEaLWkrcPqSQqhTmeJuqQl.jpg</td>\n",
       "      <td>[{'iso_3166_1': 'US', 'name': 'United States o...</td>\n",
       "      <td>1995-12-22</td>\n",
       "      <td>81452156</td>\n",
       "      <td>127</td>\n",
       "      <td>Released</td>\n",
       "      <td>Waiting to Exhale</td>\n",
       "      <td>6.101562</td>\n",
       "      <td>34</td>\n",
       "      <td>1995</td>\n",
       "    </tr>\n",
       "    <tr>\n",
       "      <th>4</th>\n",
       "      <td>False</td>\n",
       "      <td>0</td>\n",
       "      <td>[{'id': 35, 'name': 'Comedy'}]</td>\n",
       "      <td>11862</td>\n",
       "      <td>tt0113041</td>\n",
       "      <td>en</td>\n",
       "      <td>Just when George Banks has recovered from his ...</td>\n",
       "      <td>8.390625</td>\n",
       "      <td>/e64sOI48hQXyru7naBFyssKFxVd.jpg</td>\n",
       "      <td>[{'iso_3166_1': 'US', 'name': 'United States o...</td>\n",
       "      <td>1995-02-10</td>\n",
       "      <td>76578911</td>\n",
       "      <td>106</td>\n",
       "      <td>Released</td>\n",
       "      <td>Father of the Bride Part II</td>\n",
       "      <td>5.699219</td>\n",
       "      <td>173</td>\n",
       "      <td>1995</td>\n",
       "    </tr>\n",
       "  </tbody>\n",
       "</table>\n",
       "</div>"
      ],
      "text/plain": [
       "   adult    budget                                             genres     id  \\\n",
       "0  False  30000000  [{'id': 16, 'name': 'Animation'}, {'id': 35, '...    862   \n",
       "1  False  65000000  [{'id': 12, 'name': 'Adventure'}, {'id': 14, '...   8844   \n",
       "2  False         0  [{'id': 10749, 'name': 'Romance'}, {'id': 35, ...  15602   \n",
       "3  False  16000000  [{'id': 35, 'name': 'Comedy'}, {'id': 18, 'nam...  31357   \n",
       "4  False         0                     [{'id': 35, 'name': 'Comedy'}]  11862   \n",
       "\n",
       "     imdb_id original_language  \\\n",
       "0  tt0114709                en   \n",
       "1  tt0113497                en   \n",
       "2  tt0113228                en   \n",
       "3  tt0114885                en   \n",
       "4  tt0113041                en   \n",
       "\n",
       "                                            overview  popularity  \\\n",
       "0  Led by Woody, Andy's toys live happily in his ...   21.953125   \n",
       "1  When siblings Judy and Peter discover an encha...   17.015625   \n",
       "2  A family wedding reignites the ancient feud be...   11.710938   \n",
       "3  Cheated on, mistreated and stepped on, the wom...    3.859375   \n",
       "4  Just when George Banks has recovered from his ...    8.390625   \n",
       "\n",
       "                        poster_path  \\\n",
       "0  /rhIRbceoE9lR4veEXuwCC2wARtG.jpg   \n",
       "1  /vzmL6fP7aPKNKPRTFnZmiUfciyV.jpg   \n",
       "2  /6ksm1sjKMFLbO7UY2i6G1ju9SML.jpg   \n",
       "3  /16XOMpEaLWkrcPqSQqhTmeJuqQl.jpg   \n",
       "4  /e64sOI48hQXyru7naBFyssKFxVd.jpg   \n",
       "\n",
       "                                production_countries release_date    revenue  \\\n",
       "0  [{'iso_3166_1': 'US', 'name': 'United States o...   1995-10-30  373554033   \n",
       "1  [{'iso_3166_1': 'US', 'name': 'United States o...   1995-12-15  262797249   \n",
       "2  [{'iso_3166_1': 'US', 'name': 'United States o...   1995-12-22          0   \n",
       "3  [{'iso_3166_1': 'US', 'name': 'United States o...   1995-12-22   81452156   \n",
       "4  [{'iso_3166_1': 'US', 'name': 'United States o...   1995-02-10   76578911   \n",
       "\n",
       "   runtime    status                        title  vote_average  vote_count  \\\n",
       "0       81  Released                    Toy Story      7.699219        5415   \n",
       "1      104  Released                      Jumanji      6.898438        2413   \n",
       "2      101  Released             Grumpier Old Men      6.500000          92   \n",
       "3      127  Released            Waiting to Exhale      6.101562          34   \n",
       "4      106  Released  Father of the Bride Part II      5.699219         173   \n",
       "\n",
       "   release_year  \n",
       "0          1995  \n",
       "1          1995  \n",
       "2          1995  \n",
       "3          1995  \n",
       "4          1995  "
      ]
     },
     "execution_count": 100,
     "metadata": {},
     "output_type": "execute_result"
    }
   ],
   "source": [
    "movies.head()"
   ]
  },
  {
   "cell_type": "code",
   "execution_count": 101,
   "id": "5ba2ac4c",
   "metadata": {},
   "outputs": [],
   "source": [
    "import ast\n",
    "movies['genres'] = movies['genres'].apply(ast.literal_eval)\n",
    "movies['genres'] = movies['genres'].apply(lambda x: '|'.join([d['name'] for d in x]))"
   ]
  },
  {
   "cell_type": "code",
   "execution_count": 102,
   "id": "8bc78ef4",
   "metadata": {},
   "outputs": [
    {
     "data": {
      "application/vnd.microsoft.datawrangler.viewer.v0+json": {
       "columns": [
        {
         "name": "index",
         "rawType": "int64",
         "type": "integer"
        },
        {
         "name": "adult",
         "rawType": "bool",
         "type": "boolean"
        },
        {
         "name": "budget",
         "rawType": "int32",
         "type": "integer"
        },
        {
         "name": "id",
         "rawType": "int32",
         "type": "integer"
        },
        {
         "name": "imdb_id",
         "rawType": "object",
         "type": "string"
        },
        {
         "name": "original_language",
         "rawType": "object",
         "type": "string"
        },
        {
         "name": "overview",
         "rawType": "object",
         "type": "string"
        },
        {
         "name": "popularity",
         "rawType": "float16",
         "type": "float"
        },
        {
         "name": "poster_path",
         "rawType": "object",
         "type": "string"
        },
        {
         "name": "production_countries",
         "rawType": "object",
         "type": "string"
        },
        {
         "name": "release_date",
         "rawType": "datetime64[ns]",
         "type": "datetime"
        },
        {
         "name": "revenue",
         "rawType": "int32",
         "type": "integer"
        },
        {
         "name": "runtime",
         "rawType": "int16",
         "type": "integer"
        },
        {
         "name": "status",
         "rawType": "category",
         "type": "unknown"
        },
        {
         "name": "title",
         "rawType": "object",
         "type": "string"
        },
        {
         "name": "vote_average",
         "rawType": "float16",
         "type": "float"
        },
        {
         "name": "vote_count",
         "rawType": "int16",
         "type": "integer"
        },
        {
         "name": "release_year",
         "rawType": "int32",
         "type": "integer"
        },
        {
         "name": "Action",
         "rawType": "int64",
         "type": "integer"
        },
        {
         "name": "Adventure",
         "rawType": "int64",
         "type": "integer"
        },
        {
         "name": "Animation",
         "rawType": "int64",
         "type": "integer"
        },
        {
         "name": "Comedy",
         "rawType": "int64",
         "type": "integer"
        },
        {
         "name": "Crime",
         "rawType": "int64",
         "type": "integer"
        },
        {
         "name": "Documentary",
         "rawType": "int64",
         "type": "integer"
        },
        {
         "name": "Drama",
         "rawType": "int64",
         "type": "integer"
        },
        {
         "name": "Family",
         "rawType": "int64",
         "type": "integer"
        },
        {
         "name": "Fantasy",
         "rawType": "int64",
         "type": "integer"
        },
        {
         "name": "Foreign",
         "rawType": "int64",
         "type": "integer"
        },
        {
         "name": "History",
         "rawType": "int64",
         "type": "integer"
        },
        {
         "name": "Horror",
         "rawType": "int64",
         "type": "integer"
        },
        {
         "name": "Music",
         "rawType": "int64",
         "type": "integer"
        },
        {
         "name": "Mystery",
         "rawType": "int64",
         "type": "integer"
        },
        {
         "name": "Romance",
         "rawType": "int64",
         "type": "integer"
        },
        {
         "name": "Science Fiction",
         "rawType": "int64",
         "type": "integer"
        },
        {
         "name": "TV Movie",
         "rawType": "int64",
         "type": "integer"
        },
        {
         "name": "Thriller",
         "rawType": "int64",
         "type": "integer"
        },
        {
         "name": "War",
         "rawType": "int64",
         "type": "integer"
        },
        {
         "name": "Western",
         "rawType": "int64",
         "type": "integer"
        }
       ],
       "ref": "c91db820-3fda-431d-9a42-29720901cca7",
       "rows": [
        [
         "0",
         "False",
         "30000000",
         "862",
         "tt0114709",
         "en",
         "Led by Woody, Andy's toys live happily in his room until Andy's birthday brings Buzz Lightyear onto the scene. Afraid of losing his place in Andy's heart, Woody plots against Buzz. But when circumstances separate Buzz and Woody from their owner, the duo eventually learns to put aside their differences.",
         "21.95",
         "/rhIRbceoE9lR4veEXuwCC2wARtG.jpg",
         "[{'iso_3166_1': 'US', 'name': 'United States of America'}]",
         "1995-10-30 00:00:00",
         "373554033",
         "81",
         "Released",
         "Toy Story",
         "7.7",
         "5415",
         "1995",
         "0",
         "0",
         "1",
         "1",
         "0",
         "0",
         "0",
         "1",
         "0",
         "0",
         "0",
         "0",
         "0",
         "0",
         "0",
         "0",
         "0",
         "0",
         "0",
         "0"
        ],
        [
         "1",
         "False",
         "65000000",
         "8844",
         "tt0113497",
         "en",
         "When siblings Judy and Peter discover an enchanted board game that opens the door to a magical world, they unwittingly invite Alan -- an adult who's been trapped inside the game for 26 years -- into their living room. Alan's only hope for freedom is to finish the game, which proves risky as all three find themselves running from giant rhinoceroses, evil monkeys and other terrifying creatures.",
         "17.02",
         "/vzmL6fP7aPKNKPRTFnZmiUfciyV.jpg",
         "[{'iso_3166_1': 'US', 'name': 'United States of America'}]",
         "1995-12-15 00:00:00",
         "262797249",
         "104",
         "Released",
         "Jumanji",
         "6.9",
         "2413",
         "1995",
         "0",
         "1",
         "0",
         "0",
         "0",
         "0",
         "0",
         "1",
         "1",
         "0",
         "0",
         "0",
         "0",
         "0",
         "0",
         "0",
         "0",
         "0",
         "0",
         "0"
        ],
        [
         "2",
         "False",
         "0",
         "15602",
         "tt0113228",
         "en",
         "A family wedding reignites the ancient feud between next-door neighbors and fishing buddies John and Max. Meanwhile, a sultry Italian divorcée opens a restaurant at the local bait shop, alarming the locals who worry she'll scare the fish away. But she's less interested in seafood than she is in cooking up a hot time with Max.",
         "11.71",
         "/6ksm1sjKMFLbO7UY2i6G1ju9SML.jpg",
         "[{'iso_3166_1': 'US', 'name': 'United States of America'}]",
         "1995-12-22 00:00:00",
         "0",
         "101",
         "Released",
         "Grumpier Old Men",
         "6.5",
         "92",
         "1995",
         "0",
         "0",
         "0",
         "1",
         "0",
         "0",
         "0",
         "0",
         "0",
         "0",
         "0",
         "0",
         "0",
         "0",
         "1",
         "0",
         "0",
         "0",
         "0",
         "0"
        ],
        [
         "3",
         "False",
         "16000000",
         "31357",
         "tt0114885",
         "en",
         "Cheated on, mistreated and stepped on, the women are holding their breath, waiting for the elusive \"good man\" to break a string of less-than-stellar lovers. Friends and confidants Vannah, Bernie, Glo and Robin talk it all out, determined to find a better way to breathe.",
         "3.86",
         "/16XOMpEaLWkrcPqSQqhTmeJuqQl.jpg",
         "[{'iso_3166_1': 'US', 'name': 'United States of America'}]",
         "1995-12-22 00:00:00",
         "81452156",
         "127",
         "Released",
         "Waiting to Exhale",
         "6.1",
         "34",
         "1995",
         "0",
         "0",
         "0",
         "1",
         "0",
         "0",
         "1",
         "0",
         "0",
         "0",
         "0",
         "0",
         "0",
         "0",
         "1",
         "0",
         "0",
         "0",
         "0",
         "0"
        ],
        [
         "4",
         "False",
         "0",
         "11862",
         "tt0113041",
         "en",
         "Just when George Banks has recovered from his daughter's wedding, he receives the news that she's pregnant ... and that George's wife, Nina, is expecting too. He was planning on selling their home, but that's a plan that -- like George -- will have to change with the arrival of both a grandchild and a kid of his own.",
         "8.39",
         "/e64sOI48hQXyru7naBFyssKFxVd.jpg",
         "[{'iso_3166_1': 'US', 'name': 'United States of America'}]",
         "1995-02-10 00:00:00",
         "76578911",
         "106",
         "Released",
         "Father of the Bride Part II",
         "5.7",
         "173",
         "1995",
         "0",
         "0",
         "0",
         "1",
         "0",
         "0",
         "0",
         "0",
         "0",
         "0",
         "0",
         "0",
         "0",
         "0",
         "0",
         "0",
         "0",
         "0",
         "0",
         "0"
        ]
       ],
       "shape": {
        "columns": 37,
        "rows": 5
       }
      },
      "text/html": [
       "<div>\n",
       "<style scoped>\n",
       "    .dataframe tbody tr th:only-of-type {\n",
       "        vertical-align: middle;\n",
       "    }\n",
       "\n",
       "    .dataframe tbody tr th {\n",
       "        vertical-align: top;\n",
       "    }\n",
       "\n",
       "    .dataframe thead th {\n",
       "        text-align: right;\n",
       "    }\n",
       "</style>\n",
       "<table border=\"1\" class=\"dataframe\">\n",
       "  <thead>\n",
       "    <tr style=\"text-align: right;\">\n",
       "      <th></th>\n",
       "      <th>adult</th>\n",
       "      <th>budget</th>\n",
       "      <th>id</th>\n",
       "      <th>imdb_id</th>\n",
       "      <th>original_language</th>\n",
       "      <th>overview</th>\n",
       "      <th>popularity</th>\n",
       "      <th>poster_path</th>\n",
       "      <th>production_countries</th>\n",
       "      <th>release_date</th>\n",
       "      <th>...</th>\n",
       "      <th>History</th>\n",
       "      <th>Horror</th>\n",
       "      <th>Music</th>\n",
       "      <th>Mystery</th>\n",
       "      <th>Romance</th>\n",
       "      <th>Science Fiction</th>\n",
       "      <th>TV Movie</th>\n",
       "      <th>Thriller</th>\n",
       "      <th>War</th>\n",
       "      <th>Western</th>\n",
       "    </tr>\n",
       "  </thead>\n",
       "  <tbody>\n",
       "    <tr>\n",
       "      <th>0</th>\n",
       "      <td>False</td>\n",
       "      <td>30000000</td>\n",
       "      <td>862</td>\n",
       "      <td>tt0114709</td>\n",
       "      <td>en</td>\n",
       "      <td>Led by Woody, Andy's toys live happily in his ...</td>\n",
       "      <td>21.953125</td>\n",
       "      <td>/rhIRbceoE9lR4veEXuwCC2wARtG.jpg</td>\n",
       "      <td>[{'iso_3166_1': 'US', 'name': 'United States o...</td>\n",
       "      <td>1995-10-30</td>\n",
       "      <td>...</td>\n",
       "      <td>0</td>\n",
       "      <td>0</td>\n",
       "      <td>0</td>\n",
       "      <td>0</td>\n",
       "      <td>0</td>\n",
       "      <td>0</td>\n",
       "      <td>0</td>\n",
       "      <td>0</td>\n",
       "      <td>0</td>\n",
       "      <td>0</td>\n",
       "    </tr>\n",
       "    <tr>\n",
       "      <th>1</th>\n",
       "      <td>False</td>\n",
       "      <td>65000000</td>\n",
       "      <td>8844</td>\n",
       "      <td>tt0113497</td>\n",
       "      <td>en</td>\n",
       "      <td>When siblings Judy and Peter discover an encha...</td>\n",
       "      <td>17.015625</td>\n",
       "      <td>/vzmL6fP7aPKNKPRTFnZmiUfciyV.jpg</td>\n",
       "      <td>[{'iso_3166_1': 'US', 'name': 'United States o...</td>\n",
       "      <td>1995-12-15</td>\n",
       "      <td>...</td>\n",
       "      <td>0</td>\n",
       "      <td>0</td>\n",
       "      <td>0</td>\n",
       "      <td>0</td>\n",
       "      <td>0</td>\n",
       "      <td>0</td>\n",
       "      <td>0</td>\n",
       "      <td>0</td>\n",
       "      <td>0</td>\n",
       "      <td>0</td>\n",
       "    </tr>\n",
       "    <tr>\n",
       "      <th>2</th>\n",
       "      <td>False</td>\n",
       "      <td>0</td>\n",
       "      <td>15602</td>\n",
       "      <td>tt0113228</td>\n",
       "      <td>en</td>\n",
       "      <td>A family wedding reignites the ancient feud be...</td>\n",
       "      <td>11.710938</td>\n",
       "      <td>/6ksm1sjKMFLbO7UY2i6G1ju9SML.jpg</td>\n",
       "      <td>[{'iso_3166_1': 'US', 'name': 'United States o...</td>\n",
       "      <td>1995-12-22</td>\n",
       "      <td>...</td>\n",
       "      <td>0</td>\n",
       "      <td>0</td>\n",
       "      <td>0</td>\n",
       "      <td>0</td>\n",
       "      <td>1</td>\n",
       "      <td>0</td>\n",
       "      <td>0</td>\n",
       "      <td>0</td>\n",
       "      <td>0</td>\n",
       "      <td>0</td>\n",
       "    </tr>\n",
       "    <tr>\n",
       "      <th>3</th>\n",
       "      <td>False</td>\n",
       "      <td>16000000</td>\n",
       "      <td>31357</td>\n",
       "      <td>tt0114885</td>\n",
       "      <td>en</td>\n",
       "      <td>Cheated on, mistreated and stepped on, the wom...</td>\n",
       "      <td>3.859375</td>\n",
       "      <td>/16XOMpEaLWkrcPqSQqhTmeJuqQl.jpg</td>\n",
       "      <td>[{'iso_3166_1': 'US', 'name': 'United States o...</td>\n",
       "      <td>1995-12-22</td>\n",
       "      <td>...</td>\n",
       "      <td>0</td>\n",
       "      <td>0</td>\n",
       "      <td>0</td>\n",
       "      <td>0</td>\n",
       "      <td>1</td>\n",
       "      <td>0</td>\n",
       "      <td>0</td>\n",
       "      <td>0</td>\n",
       "      <td>0</td>\n",
       "      <td>0</td>\n",
       "    </tr>\n",
       "    <tr>\n",
       "      <th>4</th>\n",
       "      <td>False</td>\n",
       "      <td>0</td>\n",
       "      <td>11862</td>\n",
       "      <td>tt0113041</td>\n",
       "      <td>en</td>\n",
       "      <td>Just when George Banks has recovered from his ...</td>\n",
       "      <td>8.390625</td>\n",
       "      <td>/e64sOI48hQXyru7naBFyssKFxVd.jpg</td>\n",
       "      <td>[{'iso_3166_1': 'US', 'name': 'United States o...</td>\n",
       "      <td>1995-02-10</td>\n",
       "      <td>...</td>\n",
       "      <td>0</td>\n",
       "      <td>0</td>\n",
       "      <td>0</td>\n",
       "      <td>0</td>\n",
       "      <td>0</td>\n",
       "      <td>0</td>\n",
       "      <td>0</td>\n",
       "      <td>0</td>\n",
       "      <td>0</td>\n",
       "      <td>0</td>\n",
       "    </tr>\n",
       "  </tbody>\n",
       "</table>\n",
       "<p>5 rows × 37 columns</p>\n",
       "</div>"
      ],
      "text/plain": [
       "   adult    budget     id    imdb_id original_language  \\\n",
       "0  False  30000000    862  tt0114709                en   \n",
       "1  False  65000000   8844  tt0113497                en   \n",
       "2  False         0  15602  tt0113228                en   \n",
       "3  False  16000000  31357  tt0114885                en   \n",
       "4  False         0  11862  tt0113041                en   \n",
       "\n",
       "                                            overview  popularity  \\\n",
       "0  Led by Woody, Andy's toys live happily in his ...   21.953125   \n",
       "1  When siblings Judy and Peter discover an encha...   17.015625   \n",
       "2  A family wedding reignites the ancient feud be...   11.710938   \n",
       "3  Cheated on, mistreated and stepped on, the wom...    3.859375   \n",
       "4  Just when George Banks has recovered from his ...    8.390625   \n",
       "\n",
       "                        poster_path  \\\n",
       "0  /rhIRbceoE9lR4veEXuwCC2wARtG.jpg   \n",
       "1  /vzmL6fP7aPKNKPRTFnZmiUfciyV.jpg   \n",
       "2  /6ksm1sjKMFLbO7UY2i6G1ju9SML.jpg   \n",
       "3  /16XOMpEaLWkrcPqSQqhTmeJuqQl.jpg   \n",
       "4  /e64sOI48hQXyru7naBFyssKFxVd.jpg   \n",
       "\n",
       "                                production_countries release_date  ...  \\\n",
       "0  [{'iso_3166_1': 'US', 'name': 'United States o...   1995-10-30  ...   \n",
       "1  [{'iso_3166_1': 'US', 'name': 'United States o...   1995-12-15  ...   \n",
       "2  [{'iso_3166_1': 'US', 'name': 'United States o...   1995-12-22  ...   \n",
       "3  [{'iso_3166_1': 'US', 'name': 'United States o...   1995-12-22  ...   \n",
       "4  [{'iso_3166_1': 'US', 'name': 'United States o...   1995-02-10  ...   \n",
       "\n",
       "   History  Horror Music Mystery  Romance  Science Fiction  TV Movie  \\\n",
       "0        0       0     0       0        0                0         0   \n",
       "1        0       0     0       0        0                0         0   \n",
       "2        0       0     0       0        1                0         0   \n",
       "3        0       0     0       0        1                0         0   \n",
       "4        0       0     0       0        0                0         0   \n",
       "\n",
       "   Thriller  War  Western  \n",
       "0         0    0        0  \n",
       "1         0    0        0  \n",
       "2         0    0        0  \n",
       "3         0    0        0  \n",
       "4         0    0        0  \n",
       "\n",
       "[5 rows x 37 columns]"
      ]
     },
     "execution_count": 102,
     "metadata": {},
     "output_type": "execute_result"
    }
   ],
   "source": [
    "genres_onehot = movies[\"genres\"].str.get_dummies(sep=\"|\")\n",
    "movies = pd.concat([movies, genres_onehot], axis=1)\n",
    "movies.drop(\"genres\", axis=1, inplace=True)\n",
    "movies.head()"
   ]
  },
  {
   "cell_type": "code",
   "execution_count": 103,
   "id": "962403e9",
   "metadata": {},
   "outputs": [
    {
     "data": {
      "application/vnd.microsoft.datawrangler.viewer.v0+json": {
       "columns": [
        {
         "name": "index",
         "rawType": "int64",
         "type": "integer"
        },
        {
         "name": "adult",
         "rawType": "bool",
         "type": "boolean"
        },
        {
         "name": "budget",
         "rawType": "int32",
         "type": "integer"
        },
        {
         "name": "id",
         "rawType": "int32",
         "type": "integer"
        },
        {
         "name": "imdb_id",
         "rawType": "object",
         "type": "string"
        },
        {
         "name": "original_language",
         "rawType": "object",
         "type": "string"
        },
        {
         "name": "overview",
         "rawType": "object",
         "type": "string"
        },
        {
         "name": "popularity",
         "rawType": "float16",
         "type": "float"
        },
        {
         "name": "poster_path",
         "rawType": "object",
         "type": "string"
        },
        {
         "name": "production_countries",
         "rawType": "object",
         "type": "string"
        },
        {
         "name": "release_date",
         "rawType": "datetime64[ns]",
         "type": "datetime"
        },
        {
         "name": "revenue",
         "rawType": "int32",
         "type": "integer"
        },
        {
         "name": "runtime",
         "rawType": "int16",
         "type": "integer"
        },
        {
         "name": "status",
         "rawType": "category",
         "type": "unknown"
        },
        {
         "name": "title",
         "rawType": "object",
         "type": "string"
        },
        {
         "name": "vote_average",
         "rawType": "float16",
         "type": "float"
        },
        {
         "name": "vote_count",
         "rawType": "int16",
         "type": "integer"
        },
        {
         "name": "release_year",
         "rawType": "int32",
         "type": "integer"
        },
        {
         "name": "Action",
         "rawType": "int64",
         "type": "integer"
        },
        {
         "name": "Adventure",
         "rawType": "int64",
         "type": "integer"
        },
        {
         "name": "Animation",
         "rawType": "int64",
         "type": "integer"
        },
        {
         "name": "Comedy",
         "rawType": "int64",
         "type": "integer"
        },
        {
         "name": "Crime",
         "rawType": "int64",
         "type": "integer"
        },
        {
         "name": "Documentary",
         "rawType": "int64",
         "type": "integer"
        },
        {
         "name": "Drama",
         "rawType": "int64",
         "type": "integer"
        },
        {
         "name": "Family",
         "rawType": "int64",
         "type": "integer"
        },
        {
         "name": "Fantasy",
         "rawType": "int64",
         "type": "integer"
        },
        {
         "name": "Foreign",
         "rawType": "int64",
         "type": "integer"
        },
        {
         "name": "History",
         "rawType": "int64",
         "type": "integer"
        },
        {
         "name": "Horror",
         "rawType": "int64",
         "type": "integer"
        },
        {
         "name": "Music",
         "rawType": "int64",
         "type": "integer"
        },
        {
         "name": "Mystery",
         "rawType": "int64",
         "type": "integer"
        },
        {
         "name": "Romance",
         "rawType": "int64",
         "type": "integer"
        },
        {
         "name": "Science Fiction",
         "rawType": "int64",
         "type": "integer"
        },
        {
         "name": "TV Movie",
         "rawType": "int64",
         "type": "integer"
        },
        {
         "name": "Thriller",
         "rawType": "int64",
         "type": "integer"
        },
        {
         "name": "War",
         "rawType": "int64",
         "type": "integer"
        },
        {
         "name": "Western",
         "rawType": "int64",
         "type": "integer"
        }
       ],
       "ref": "8768f875-d089-40df-ab34-386bfb05f037",
       "rows": [
        [
         "0",
         "False",
         "0",
         "131232",
         "tt0333373",
         "en",
         "Two Sicilian friends, Nunzio and Pino, share the same apartment in Turin. Nunzio works in a factory but is laid off because of his illness. Pino, on the other hand, is a mysterious man and he is always traveling because of his work. Nunzio would very much like to know what his friend is doing for a living but Pino will not tell him. Nunzio spends his free time the best he can in his friend's absences. He ends up falling in love with Maria, a commercial employee, whereas his health condition deteriorates...",
         "0.00395",
         "/jo4n8M8EHedIuatB39C8EEmJBH8.jpg",
         "[{'iso_3166_1': 'IT', 'name': 'Italy'}]",
         "2002-03-20 00:00:00",
         "0",
         "86",
         "Released",
         "Two Friends",
         "0.0",
         "0",
         "2002",
         "0",
         "0",
         "0",
         "0",
         "0",
         "0",
         "1",
         "0",
         "0",
         "1",
         "0",
         "0",
         "0",
         "0",
         "0",
         "0",
         "0",
         "0",
         "0",
         "0"
        ],
        [
         "1",
         "False",
         "0",
         "79782",
         "tt1684935",
         "en",
         "An atmospheric coming-of-age story featuring an imaginative young boy named Marek who dreams of escaping an increasingly dangerous Poland on the eve of war for beautiful Venice.",
         "0.1471",
         "/lUmJiBTKdesFDkgSvV9zecCgNO6.jpg",
         "[]",
         "2010-05-25 00:00:00",
         "0",
         "110",
         "Released",
         "Venice",
         "7.5",
         "4",
         "2010",
         "0",
         "0",
         "0",
         "0",
         "0",
         "0",
         "1",
         "0",
         "0",
         "0",
         "0",
         "0",
         "0",
         "0",
         "1",
         "0",
         "0",
         "0",
         "0",
         "0"
        ],
        [
         "2",
         "False",
         "0",
         "141210",
         "tt2250194",
         "en",
         "The town of Derry has a secret, but no one told the new kid. It's gonna be a long night.",
         "0.1356",
         "/pQpyEmFTGaox4yLuUXmiD2IDIbA.jpg",
         "[]",
         "2013-10-12 00:00:00",
         "0",
         "6",
         "Released",
         "The Sleepover",
         "8.0",
         "1",
         "2013",
         "0",
         "0",
         "0",
         "1",
         "0",
         "0",
         "0",
         "0",
         "0",
         "0",
         "0",
         "1",
         "0",
         "0",
         "0",
         "0",
         "0",
         "0",
         "0",
         "0"
        ],
        [
         "3",
         "False",
         "0",
         "143750",
         "tt2140519",
         "en",
         "As her surroundings are invaded by outsiders, THE FARMER'S WIFE stoically carries out her daily tasks in preparation for what will be her final day on her farm, the only land she has known. Unable to accept this forced future, subconscious memories return that ultimately lead her to connect more to the countryside of her youth than ever before.",
         "0.2118",
         "/ePPNVWyIKYBdsGrOrYVaPKM8DlM.jpg",
         "[]",
         "2012-06-20 00:00:00",
         "0",
         "18",
         "Released",
         "The Farmer's Wife",
         "10.0",
         "1",
         "2012",
         "0",
         "0",
         "0",
         "0",
         "0",
         "0",
         "1",
         "0",
         "0",
         "0",
         "0",
         "0",
         "0",
         "0",
         "0",
         "0",
         "0",
         "0",
         "0",
         "0"
        ],
        [
         "4",
         "False",
         "0",
         "84198",
         "tt1736049",
         "en",
         "Using personal stories, this powerful documentary illuminates the plight of the 49 million Americans struggling with food insecurity. A single mother, a small-town policeman and a farmer are among those for whom putting food on the table is a daily battle.",
         "0.501",
         "/jn8L1QdWWX5c0NUOLjzaSXtZrbt.jpg",
         "[{'iso_3166_1': 'US', 'name': 'United States of America'}]",
         "2012-03-22 00:00:00",
         "0",
         "84",
         "Released",
         "A Place at the Table",
         "6.9",
         "7",
         "2012",
         "0",
         "0",
         "0",
         "0",
         "0",
         "1",
         "0",
         "0",
         "0",
         "0",
         "0",
         "0",
         "0",
         "0",
         "0",
         "0",
         "0",
         "0",
         "0",
         "0"
        ]
       ],
       "shape": {
        "columns": 37,
        "rows": 5
       }
      },
      "text/html": [
       "<div>\n",
       "<style scoped>\n",
       "    .dataframe tbody tr th:only-of-type {\n",
       "        vertical-align: middle;\n",
       "    }\n",
       "\n",
       "    .dataframe tbody tr th {\n",
       "        vertical-align: top;\n",
       "    }\n",
       "\n",
       "    .dataframe thead th {\n",
       "        text-align: right;\n",
       "    }\n",
       "</style>\n",
       "<table border=\"1\" class=\"dataframe\">\n",
       "  <thead>\n",
       "    <tr style=\"text-align: right;\">\n",
       "      <th></th>\n",
       "      <th>adult</th>\n",
       "      <th>budget</th>\n",
       "      <th>id</th>\n",
       "      <th>imdb_id</th>\n",
       "      <th>original_language</th>\n",
       "      <th>overview</th>\n",
       "      <th>popularity</th>\n",
       "      <th>poster_path</th>\n",
       "      <th>production_countries</th>\n",
       "      <th>release_date</th>\n",
       "      <th>...</th>\n",
       "      <th>History</th>\n",
       "      <th>Horror</th>\n",
       "      <th>Music</th>\n",
       "      <th>Mystery</th>\n",
       "      <th>Romance</th>\n",
       "      <th>Science Fiction</th>\n",
       "      <th>TV Movie</th>\n",
       "      <th>Thriller</th>\n",
       "      <th>War</th>\n",
       "      <th>Western</th>\n",
       "    </tr>\n",
       "  </thead>\n",
       "  <tbody>\n",
       "    <tr>\n",
       "      <th>0</th>\n",
       "      <td>False</td>\n",
       "      <td>0</td>\n",
       "      <td>131232</td>\n",
       "      <td>tt0333373</td>\n",
       "      <td>en</td>\n",
       "      <td>Two Sicilian friends, Nunzio and Pino, share t...</td>\n",
       "      <td>0.003948</td>\n",
       "      <td>/jo4n8M8EHedIuatB39C8EEmJBH8.jpg</td>\n",
       "      <td>[{'iso_3166_1': 'IT', 'name': 'Italy'}]</td>\n",
       "      <td>2002-03-20</td>\n",
       "      <td>...</td>\n",
       "      <td>0</td>\n",
       "      <td>0</td>\n",
       "      <td>0</td>\n",
       "      <td>0</td>\n",
       "      <td>0</td>\n",
       "      <td>0</td>\n",
       "      <td>0</td>\n",
       "      <td>0</td>\n",
       "      <td>0</td>\n",
       "      <td>0</td>\n",
       "    </tr>\n",
       "    <tr>\n",
       "      <th>1</th>\n",
       "      <td>False</td>\n",
       "      <td>0</td>\n",
       "      <td>79782</td>\n",
       "      <td>tt1684935</td>\n",
       "      <td>en</td>\n",
       "      <td>An atmospheric coming-of-age story featuring a...</td>\n",
       "      <td>0.147095</td>\n",
       "      <td>/lUmJiBTKdesFDkgSvV9zecCgNO6.jpg</td>\n",
       "      <td>[]</td>\n",
       "      <td>2010-05-25</td>\n",
       "      <td>...</td>\n",
       "      <td>0</td>\n",
       "      <td>0</td>\n",
       "      <td>0</td>\n",
       "      <td>0</td>\n",
       "      <td>1</td>\n",
       "      <td>0</td>\n",
       "      <td>0</td>\n",
       "      <td>0</td>\n",
       "      <td>0</td>\n",
       "      <td>0</td>\n",
       "    </tr>\n",
       "    <tr>\n",
       "      <th>2</th>\n",
       "      <td>False</td>\n",
       "      <td>0</td>\n",
       "      <td>141210</td>\n",
       "      <td>tt2250194</td>\n",
       "      <td>en</td>\n",
       "      <td>The town of Derry has a secret, but no one tol...</td>\n",
       "      <td>0.135620</td>\n",
       "      <td>/pQpyEmFTGaox4yLuUXmiD2IDIbA.jpg</td>\n",
       "      <td>[]</td>\n",
       "      <td>2013-10-12</td>\n",
       "      <td>...</td>\n",
       "      <td>0</td>\n",
       "      <td>1</td>\n",
       "      <td>0</td>\n",
       "      <td>0</td>\n",
       "      <td>0</td>\n",
       "      <td>0</td>\n",
       "      <td>0</td>\n",
       "      <td>0</td>\n",
       "      <td>0</td>\n",
       "      <td>0</td>\n",
       "    </tr>\n",
       "    <tr>\n",
       "      <th>3</th>\n",
       "      <td>False</td>\n",
       "      <td>0</td>\n",
       "      <td>143750</td>\n",
       "      <td>tt2140519</td>\n",
       "      <td>en</td>\n",
       "      <td>As her surroundings are invaded by outsiders, ...</td>\n",
       "      <td>0.211792</td>\n",
       "      <td>/ePPNVWyIKYBdsGrOrYVaPKM8DlM.jpg</td>\n",
       "      <td>[]</td>\n",
       "      <td>2012-06-20</td>\n",
       "      <td>...</td>\n",
       "      <td>0</td>\n",
       "      <td>0</td>\n",
       "      <td>0</td>\n",
       "      <td>0</td>\n",
       "      <td>0</td>\n",
       "      <td>0</td>\n",
       "      <td>0</td>\n",
       "      <td>0</td>\n",
       "      <td>0</td>\n",
       "      <td>0</td>\n",
       "    </tr>\n",
       "    <tr>\n",
       "      <th>4</th>\n",
       "      <td>False</td>\n",
       "      <td>0</td>\n",
       "      <td>84198</td>\n",
       "      <td>tt1736049</td>\n",
       "      <td>en</td>\n",
       "      <td>Using personal stories, this powerful document...</td>\n",
       "      <td>0.500977</td>\n",
       "      <td>/jn8L1QdWWX5c0NUOLjzaSXtZrbt.jpg</td>\n",
       "      <td>[{'iso_3166_1': 'US', 'name': 'United States o...</td>\n",
       "      <td>2012-03-22</td>\n",
       "      <td>...</td>\n",
       "      <td>0</td>\n",
       "      <td>0</td>\n",
       "      <td>0</td>\n",
       "      <td>0</td>\n",
       "      <td>0</td>\n",
       "      <td>0</td>\n",
       "      <td>0</td>\n",
       "      <td>0</td>\n",
       "      <td>0</td>\n",
       "      <td>0</td>\n",
       "    </tr>\n",
       "  </tbody>\n",
       "</table>\n",
       "<p>5 rows × 37 columns</p>\n",
       "</div>"
      ],
      "text/plain": [
       "   adult  budget      id    imdb_id original_language  \\\n",
       "0  False       0  131232  tt0333373                en   \n",
       "1  False       0   79782  tt1684935                en   \n",
       "2  False       0  141210  tt2250194                en   \n",
       "3  False       0  143750  tt2140519                en   \n",
       "4  False       0   84198  tt1736049                en   \n",
       "\n",
       "                                            overview  popularity  \\\n",
       "0  Two Sicilian friends, Nunzio and Pino, share t...    0.003948   \n",
       "1  An atmospheric coming-of-age story featuring a...    0.147095   \n",
       "2  The town of Derry has a secret, but no one tol...    0.135620   \n",
       "3  As her surroundings are invaded by outsiders, ...    0.211792   \n",
       "4  Using personal stories, this powerful document...    0.500977   \n",
       "\n",
       "                        poster_path  \\\n",
       "0  /jo4n8M8EHedIuatB39C8EEmJBH8.jpg   \n",
       "1  /lUmJiBTKdesFDkgSvV9zecCgNO6.jpg   \n",
       "2  /pQpyEmFTGaox4yLuUXmiD2IDIbA.jpg   \n",
       "3  /ePPNVWyIKYBdsGrOrYVaPKM8DlM.jpg   \n",
       "4  /jn8L1QdWWX5c0NUOLjzaSXtZrbt.jpg   \n",
       "\n",
       "                                production_countries release_date  ...  \\\n",
       "0            [{'iso_3166_1': 'IT', 'name': 'Italy'}]   2002-03-20  ...   \n",
       "1                                                 []   2010-05-25  ...   \n",
       "2                                                 []   2013-10-12  ...   \n",
       "3                                                 []   2012-06-20  ...   \n",
       "4  [{'iso_3166_1': 'US', 'name': 'United States o...   2012-03-22  ...   \n",
       "\n",
       "   History  Horror Music Mystery  Romance  Science Fiction  TV Movie  \\\n",
       "0        0       0     0       0        0                0         0   \n",
       "1        0       0     0       0        1                0         0   \n",
       "2        0       1     0       0        0                0         0   \n",
       "3        0       0     0       0        0                0         0   \n",
       "4        0       0     0       0        0                0         0   \n",
       "\n",
       "   Thriller  War  Western  \n",
       "0         0    0        0  \n",
       "1         0    0        0  \n",
       "2         0    0        0  \n",
       "3         0    0        0  \n",
       "4         0    0        0  \n",
       "\n",
       "[5 rows x 37 columns]"
      ]
     },
     "execution_count": 103,
     "metadata": {},
     "output_type": "execute_result"
    }
   ],
   "source": [
    "movies = movies[movies[\"release_year\"] >= 2000].reset_index(drop=True)\n",
    "movies.head()"
   ]
  },
  {
   "cell_type": "code",
   "execution_count": 104,
   "id": "ee687cef",
   "metadata": {},
   "outputs": [],
   "source": [
    "movies.drop(columns=[\"release_date\"], inplace=True)"
   ]
  },
  {
   "cell_type": "code",
   "execution_count": 105,
   "id": "b303d51c",
   "metadata": {},
   "outputs": [],
   "source": [
    "movies.rename(columns={'id': 'movieId'}, inplace=True)\n"
   ]
  },
  {
   "cell_type": "code",
   "execution_count": 106,
   "id": "9780ddb2",
   "metadata": {},
   "outputs": [
    {
     "data": {
      "text/plain": [
       "875"
      ]
     },
     "execution_count": 106,
     "metadata": {},
     "output_type": "execute_result"
    }
   ],
   "source": [
    "movies[\"title\"].duplicated().sum()"
   ]
  },
  {
   "cell_type": "code",
   "execution_count": 107,
   "id": "eeae9446",
   "metadata": {},
   "outputs": [],
   "source": [
    "movies[\"title\"].drop_duplicates(inplace=True)"
   ]
  },
  {
   "cell_type": "code",
   "execution_count": 108,
   "id": "b37192d2",
   "metadata": {},
   "outputs": [],
   "source": [
    "movies.to_csv(\"data/movies_clean.csv\", index=False)"
   ]
  },
  {
   "cell_type": "code",
   "execution_count": 109,
   "id": "f5fcf379",
   "metadata": {},
   "outputs": [
    {
     "data": {
      "text/plain": [
       "(23243, 36)"
      ]
     },
     "execution_count": 109,
     "metadata": {},
     "output_type": "execute_result"
    }
   ],
   "source": [
    "movies.shape"
   ]
  },
  {
   "cell_type": "markdown",
   "id": "10c29314",
   "metadata": {},
   "source": [
    "## **Milestone 2: Exploratory Data Analysis (EDA)**"
   ]
  },
  {
   "cell_type": "code",
   "execution_count": 110,
   "id": "523c3330",
   "metadata": {},
   "outputs": [
    {
     "data": {
      "application/vnd.microsoft.datawrangler.viewer.v0+json": {
       "columns": [
        {
         "name": "index",
         "rawType": "int64",
         "type": "integer"
        },
        {
         "name": "adult",
         "rawType": "bool",
         "type": "boolean"
        },
        {
         "name": "budget",
         "rawType": "int32",
         "type": "integer"
        },
        {
         "name": "movieId",
         "rawType": "int32",
         "type": "integer"
        },
        {
         "name": "imdb_id",
         "rawType": "object",
         "type": "string"
        },
        {
         "name": "original_language",
         "rawType": "object",
         "type": "string"
        },
        {
         "name": "overview",
         "rawType": "object",
         "type": "string"
        },
        {
         "name": "popularity",
         "rawType": "float16",
         "type": "float"
        },
        {
         "name": "poster_path",
         "rawType": "object",
         "type": "string"
        },
        {
         "name": "production_countries",
         "rawType": "object",
         "type": "string"
        },
        {
         "name": "revenue",
         "rawType": "int32",
         "type": "integer"
        },
        {
         "name": "runtime",
         "rawType": "int16",
         "type": "integer"
        },
        {
         "name": "status",
         "rawType": "category",
         "type": "unknown"
        },
        {
         "name": "title",
         "rawType": "object",
         "type": "string"
        },
        {
         "name": "vote_average",
         "rawType": "float16",
         "type": "float"
        },
        {
         "name": "vote_count",
         "rawType": "int16",
         "type": "integer"
        },
        {
         "name": "release_year",
         "rawType": "int32",
         "type": "integer"
        },
        {
         "name": "Action",
         "rawType": "int64",
         "type": "integer"
        },
        {
         "name": "Adventure",
         "rawType": "int64",
         "type": "integer"
        },
        {
         "name": "Animation",
         "rawType": "int64",
         "type": "integer"
        },
        {
         "name": "Comedy",
         "rawType": "int64",
         "type": "integer"
        },
        {
         "name": "Crime",
         "rawType": "int64",
         "type": "integer"
        },
        {
         "name": "Documentary",
         "rawType": "int64",
         "type": "integer"
        },
        {
         "name": "Drama",
         "rawType": "int64",
         "type": "integer"
        },
        {
         "name": "Family",
         "rawType": "int64",
         "type": "integer"
        },
        {
         "name": "Fantasy",
         "rawType": "int64",
         "type": "integer"
        },
        {
         "name": "Foreign",
         "rawType": "int64",
         "type": "integer"
        },
        {
         "name": "History",
         "rawType": "int64",
         "type": "integer"
        },
        {
         "name": "Horror",
         "rawType": "int64",
         "type": "integer"
        },
        {
         "name": "Music",
         "rawType": "int64",
         "type": "integer"
        },
        {
         "name": "Mystery",
         "rawType": "int64",
         "type": "integer"
        },
        {
         "name": "Romance",
         "rawType": "int64",
         "type": "integer"
        },
        {
         "name": "Science Fiction",
         "rawType": "int64",
         "type": "integer"
        },
        {
         "name": "TV Movie",
         "rawType": "int64",
         "type": "integer"
        },
        {
         "name": "Thriller",
         "rawType": "int64",
         "type": "integer"
        },
        {
         "name": "War",
         "rawType": "int64",
         "type": "integer"
        },
        {
         "name": "Western",
         "rawType": "int64",
         "type": "integer"
        }
       ],
       "ref": "b5b15938-af57-497f-b86e-5b2c5c51c8c7",
       "rows": [
        [
         "0",
         "False",
         "0",
         "131232",
         "tt0333373",
         "en",
         "Two Sicilian friends, Nunzio and Pino, share the same apartment in Turin. Nunzio works in a factory but is laid off because of his illness. Pino, on the other hand, is a mysterious man and he is always traveling because of his work. Nunzio would very much like to know what his friend is doing for a living but Pino will not tell him. Nunzio spends his free time the best he can in his friend's absences. He ends up falling in love with Maria, a commercial employee, whereas his health condition deteriorates...",
         "0.00395",
         "/jo4n8M8EHedIuatB39C8EEmJBH8.jpg",
         "[{'iso_3166_1': 'IT', 'name': 'Italy'}]",
         "0",
         "86",
         "Released",
         "Two Friends",
         "0.0",
         "0",
         "2002",
         "0",
         "0",
         "0",
         "0",
         "0",
         "0",
         "1",
         "0",
         "0",
         "1",
         "0",
         "0",
         "0",
         "0",
         "0",
         "0",
         "0",
         "0",
         "0",
         "0"
        ],
        [
         "1",
         "False",
         "0",
         "79782",
         "tt1684935",
         "en",
         "An atmospheric coming-of-age story featuring an imaginative young boy named Marek who dreams of escaping an increasingly dangerous Poland on the eve of war for beautiful Venice.",
         "0.1471",
         "/lUmJiBTKdesFDkgSvV9zecCgNO6.jpg",
         "[]",
         "0",
         "110",
         "Released",
         "Venice",
         "7.5",
         "4",
         "2010",
         "0",
         "0",
         "0",
         "0",
         "0",
         "0",
         "1",
         "0",
         "0",
         "0",
         "0",
         "0",
         "0",
         "0",
         "1",
         "0",
         "0",
         "0",
         "0",
         "0"
        ],
        [
         "2",
         "False",
         "0",
         "141210",
         "tt2250194",
         "en",
         "The town of Derry has a secret, but no one told the new kid. It's gonna be a long night.",
         "0.1356",
         "/pQpyEmFTGaox4yLuUXmiD2IDIbA.jpg",
         "[]",
         "0",
         "6",
         "Released",
         "The Sleepover",
         "8.0",
         "1",
         "2013",
         "0",
         "0",
         "0",
         "1",
         "0",
         "0",
         "0",
         "0",
         "0",
         "0",
         "0",
         "1",
         "0",
         "0",
         "0",
         "0",
         "0",
         "0",
         "0",
         "0"
        ],
        [
         "3",
         "False",
         "0",
         "143750",
         "tt2140519",
         "en",
         "As her surroundings are invaded by outsiders, THE FARMER'S WIFE stoically carries out her daily tasks in preparation for what will be her final day on her farm, the only land she has known. Unable to accept this forced future, subconscious memories return that ultimately lead her to connect more to the countryside of her youth than ever before.",
         "0.2118",
         "/ePPNVWyIKYBdsGrOrYVaPKM8DlM.jpg",
         "[]",
         "0",
         "18",
         "Released",
         "The Farmer's Wife",
         "10.0",
         "1",
         "2012",
         "0",
         "0",
         "0",
         "0",
         "0",
         "0",
         "1",
         "0",
         "0",
         "0",
         "0",
         "0",
         "0",
         "0",
         "0",
         "0",
         "0",
         "0",
         "0",
         "0"
        ],
        [
         "4",
         "False",
         "0",
         "84198",
         "tt1736049",
         "en",
         "Using personal stories, this powerful documentary illuminates the plight of the 49 million Americans struggling with food insecurity. A single mother, a small-town policeman and a farmer are among those for whom putting food on the table is a daily battle.",
         "0.501",
         "/jn8L1QdWWX5c0NUOLjzaSXtZrbt.jpg",
         "[{'iso_3166_1': 'US', 'name': 'United States of America'}]",
         "0",
         "84",
         "Released",
         "A Place at the Table",
         "6.9",
         "7",
         "2012",
         "0",
         "0",
         "0",
         "0",
         "0",
         "1",
         "0",
         "0",
         "0",
         "0",
         "0",
         "0",
         "0",
         "0",
         "0",
         "0",
         "0",
         "0",
         "0",
         "0"
        ]
       ],
       "shape": {
        "columns": 36,
        "rows": 5
       }
      },
      "text/html": [
       "<div>\n",
       "<style scoped>\n",
       "    .dataframe tbody tr th:only-of-type {\n",
       "        vertical-align: middle;\n",
       "    }\n",
       "\n",
       "    .dataframe tbody tr th {\n",
       "        vertical-align: top;\n",
       "    }\n",
       "\n",
       "    .dataframe thead th {\n",
       "        text-align: right;\n",
       "    }\n",
       "</style>\n",
       "<table border=\"1\" class=\"dataframe\">\n",
       "  <thead>\n",
       "    <tr style=\"text-align: right;\">\n",
       "      <th></th>\n",
       "      <th>adult</th>\n",
       "      <th>budget</th>\n",
       "      <th>movieId</th>\n",
       "      <th>imdb_id</th>\n",
       "      <th>original_language</th>\n",
       "      <th>overview</th>\n",
       "      <th>popularity</th>\n",
       "      <th>poster_path</th>\n",
       "      <th>production_countries</th>\n",
       "      <th>revenue</th>\n",
       "      <th>...</th>\n",
       "      <th>History</th>\n",
       "      <th>Horror</th>\n",
       "      <th>Music</th>\n",
       "      <th>Mystery</th>\n",
       "      <th>Romance</th>\n",
       "      <th>Science Fiction</th>\n",
       "      <th>TV Movie</th>\n",
       "      <th>Thriller</th>\n",
       "      <th>War</th>\n",
       "      <th>Western</th>\n",
       "    </tr>\n",
       "  </thead>\n",
       "  <tbody>\n",
       "    <tr>\n",
       "      <th>0</th>\n",
       "      <td>False</td>\n",
       "      <td>0</td>\n",
       "      <td>131232</td>\n",
       "      <td>tt0333373</td>\n",
       "      <td>en</td>\n",
       "      <td>Two Sicilian friends, Nunzio and Pino, share t...</td>\n",
       "      <td>0.003948</td>\n",
       "      <td>/jo4n8M8EHedIuatB39C8EEmJBH8.jpg</td>\n",
       "      <td>[{'iso_3166_1': 'IT', 'name': 'Italy'}]</td>\n",
       "      <td>0</td>\n",
       "      <td>...</td>\n",
       "      <td>0</td>\n",
       "      <td>0</td>\n",
       "      <td>0</td>\n",
       "      <td>0</td>\n",
       "      <td>0</td>\n",
       "      <td>0</td>\n",
       "      <td>0</td>\n",
       "      <td>0</td>\n",
       "      <td>0</td>\n",
       "      <td>0</td>\n",
       "    </tr>\n",
       "    <tr>\n",
       "      <th>1</th>\n",
       "      <td>False</td>\n",
       "      <td>0</td>\n",
       "      <td>79782</td>\n",
       "      <td>tt1684935</td>\n",
       "      <td>en</td>\n",
       "      <td>An atmospheric coming-of-age story featuring a...</td>\n",
       "      <td>0.147095</td>\n",
       "      <td>/lUmJiBTKdesFDkgSvV9zecCgNO6.jpg</td>\n",
       "      <td>[]</td>\n",
       "      <td>0</td>\n",
       "      <td>...</td>\n",
       "      <td>0</td>\n",
       "      <td>0</td>\n",
       "      <td>0</td>\n",
       "      <td>0</td>\n",
       "      <td>1</td>\n",
       "      <td>0</td>\n",
       "      <td>0</td>\n",
       "      <td>0</td>\n",
       "      <td>0</td>\n",
       "      <td>0</td>\n",
       "    </tr>\n",
       "    <tr>\n",
       "      <th>2</th>\n",
       "      <td>False</td>\n",
       "      <td>0</td>\n",
       "      <td>141210</td>\n",
       "      <td>tt2250194</td>\n",
       "      <td>en</td>\n",
       "      <td>The town of Derry has a secret, but no one tol...</td>\n",
       "      <td>0.135620</td>\n",
       "      <td>/pQpyEmFTGaox4yLuUXmiD2IDIbA.jpg</td>\n",
       "      <td>[]</td>\n",
       "      <td>0</td>\n",
       "      <td>...</td>\n",
       "      <td>0</td>\n",
       "      <td>1</td>\n",
       "      <td>0</td>\n",
       "      <td>0</td>\n",
       "      <td>0</td>\n",
       "      <td>0</td>\n",
       "      <td>0</td>\n",
       "      <td>0</td>\n",
       "      <td>0</td>\n",
       "      <td>0</td>\n",
       "    </tr>\n",
       "    <tr>\n",
       "      <th>3</th>\n",
       "      <td>False</td>\n",
       "      <td>0</td>\n",
       "      <td>143750</td>\n",
       "      <td>tt2140519</td>\n",
       "      <td>en</td>\n",
       "      <td>As her surroundings are invaded by outsiders, ...</td>\n",
       "      <td>0.211792</td>\n",
       "      <td>/ePPNVWyIKYBdsGrOrYVaPKM8DlM.jpg</td>\n",
       "      <td>[]</td>\n",
       "      <td>0</td>\n",
       "      <td>...</td>\n",
       "      <td>0</td>\n",
       "      <td>0</td>\n",
       "      <td>0</td>\n",
       "      <td>0</td>\n",
       "      <td>0</td>\n",
       "      <td>0</td>\n",
       "      <td>0</td>\n",
       "      <td>0</td>\n",
       "      <td>0</td>\n",
       "      <td>0</td>\n",
       "    </tr>\n",
       "    <tr>\n",
       "      <th>4</th>\n",
       "      <td>False</td>\n",
       "      <td>0</td>\n",
       "      <td>84198</td>\n",
       "      <td>tt1736049</td>\n",
       "      <td>en</td>\n",
       "      <td>Using personal stories, this powerful document...</td>\n",
       "      <td>0.500977</td>\n",
       "      <td>/jn8L1QdWWX5c0NUOLjzaSXtZrbt.jpg</td>\n",
       "      <td>[{'iso_3166_1': 'US', 'name': 'United States o...</td>\n",
       "      <td>0</td>\n",
       "      <td>...</td>\n",
       "      <td>0</td>\n",
       "      <td>0</td>\n",
       "      <td>0</td>\n",
       "      <td>0</td>\n",
       "      <td>0</td>\n",
       "      <td>0</td>\n",
       "      <td>0</td>\n",
       "      <td>0</td>\n",
       "      <td>0</td>\n",
       "      <td>0</td>\n",
       "    </tr>\n",
       "  </tbody>\n",
       "</table>\n",
       "<p>5 rows × 36 columns</p>\n",
       "</div>"
      ],
      "text/plain": [
       "   adult  budget  movieId    imdb_id original_language  \\\n",
       "0  False       0   131232  tt0333373                en   \n",
       "1  False       0    79782  tt1684935                en   \n",
       "2  False       0   141210  tt2250194                en   \n",
       "3  False       0   143750  tt2140519                en   \n",
       "4  False       0    84198  tt1736049                en   \n",
       "\n",
       "                                            overview  popularity  \\\n",
       "0  Two Sicilian friends, Nunzio and Pino, share t...    0.003948   \n",
       "1  An atmospheric coming-of-age story featuring a...    0.147095   \n",
       "2  The town of Derry has a secret, but no one tol...    0.135620   \n",
       "3  As her surroundings are invaded by outsiders, ...    0.211792   \n",
       "4  Using personal stories, this powerful document...    0.500977   \n",
       "\n",
       "                        poster_path  \\\n",
       "0  /jo4n8M8EHedIuatB39C8EEmJBH8.jpg   \n",
       "1  /lUmJiBTKdesFDkgSvV9zecCgNO6.jpg   \n",
       "2  /pQpyEmFTGaox4yLuUXmiD2IDIbA.jpg   \n",
       "3  /ePPNVWyIKYBdsGrOrYVaPKM8DlM.jpg   \n",
       "4  /jn8L1QdWWX5c0NUOLjzaSXtZrbt.jpg   \n",
       "\n",
       "                                production_countries  revenue  ...  History  \\\n",
       "0            [{'iso_3166_1': 'IT', 'name': 'Italy'}]        0  ...        0   \n",
       "1                                                 []        0  ...        0   \n",
       "2                                                 []        0  ...        0   \n",
       "3                                                 []        0  ...        0   \n",
       "4  [{'iso_3166_1': 'US', 'name': 'United States o...        0  ...        0   \n",
       "\n",
       "  Horror Music  Mystery  Romance  Science Fiction  TV Movie  Thriller  War  \\\n",
       "0      0     0        0        0                0         0         0    0   \n",
       "1      0     0        0        1                0         0         0    0   \n",
       "2      1     0        0        0                0         0         0    0   \n",
       "3      0     0        0        0                0         0         0    0   \n",
       "4      0     0        0        0                0         0         0    0   \n",
       "\n",
       "   Western  \n",
       "0        0  \n",
       "1        0  \n",
       "2        0  \n",
       "3        0  \n",
       "4        0  \n",
       "\n",
       "[5 rows x 36 columns]"
      ]
     },
     "execution_count": 110,
     "metadata": {},
     "output_type": "execute_result"
    }
   ],
   "source": [
    "movies.head()"
   ]
  },
  {
   "cell_type": "code",
   "execution_count": 111,
   "id": "c1347583",
   "metadata": {},
   "outputs": [
    {
     "name": "stdout",
     "output_type": "stream",
     "text": [
      " the number of Action is: 3313\n",
      " the number of Adventure is: 1600\n",
      " the number of Animation is: 1167\n",
      " the number of Comedy is: 6676\n",
      " the number of Crime is: 1914\n",
      " the number of Documentary is: 2984\n",
      " the number of Drama is: 10275\n",
      " the number of Family is: 1493\n",
      " the number of Fantasy is: 1114\n",
      " the number of Foreign is: 986\n",
      " the number of History is: 683\n",
      " the number of Horror is: 2516\n",
      " the number of Music is: 694\n",
      " the number of Mystery is: 1207\n",
      " the number of Romance is: 3168\n",
      " the number of Science Fiction is: 1523\n",
      " the number of TV Movie is: 480\n",
      " the number of Thriller is: 4498\n",
      " the number of War is: 443\n",
      " the number of Western is: 144\n"
     ]
    }
   ],
   "source": [
    "for col in movies.iloc[:, 16:36]:\n",
    "    print(f\" the number of {col} is: {movies[col].sum()}\")"
   ]
  },
  {
   "cell_type": "code",
   "execution_count": 112,
   "id": "e746f992",
   "metadata": {},
   "outputs": [
    {
     "data": {
      "application/vnd.microsoft.datawrangler.viewer.v0+json": {
       "columns": [
        {
         "name": "index",
         "rawType": "int64",
         "type": "integer"
        },
        {
         "name": "title",
         "rawType": "object",
         "type": "string"
        },
        {
         "name": "popularity",
         "rawType": "float16",
         "type": "float"
        }
       ],
       "ref": "126b3f23-e9a0-48a0-b167-98e5f64c009c",
       "rows": [
        [
         "0",
         "Minions",
         "547.5"
        ],
        [
         "1",
         "Wonder Woman",
         "294.2"
        ],
        [
         "2",
         "Beauty and the Beast",
         "287.2"
        ],
        [
         "3",
         "Baby Driver",
         "228.0"
        ],
        [
         "4",
         "Big Hero 6",
         "213.9"
        ],
        [
         "5",
         "Deadpool",
         "187.9"
        ],
        [
         "6",
         "Guardians of the Galaxy Vol. 2",
         "185.4"
        ],
        [
         "7",
         "Avatar",
         "185.1"
        ],
        [
         "8",
         "John Wick",
         "183.9"
        ],
        [
         "9",
         "Gone Girl",
         "154.8"
        ]
       ],
       "shape": {
        "columns": 2,
        "rows": 10
       }
      },
      "text/html": [
       "<div>\n",
       "<style scoped>\n",
       "    .dataframe tbody tr th:only-of-type {\n",
       "        vertical-align: middle;\n",
       "    }\n",
       "\n",
       "    .dataframe tbody tr th {\n",
       "        vertical-align: top;\n",
       "    }\n",
       "\n",
       "    .dataframe thead th {\n",
       "        text-align: right;\n",
       "    }\n",
       "</style>\n",
       "<table border=\"1\" class=\"dataframe\">\n",
       "  <thead>\n",
       "    <tr style=\"text-align: right;\">\n",
       "      <th></th>\n",
       "      <th>title</th>\n",
       "      <th>popularity</th>\n",
       "    </tr>\n",
       "  </thead>\n",
       "  <tbody>\n",
       "    <tr>\n",
       "      <th>0</th>\n",
       "      <td>Minions</td>\n",
       "      <td>547.500</td>\n",
       "    </tr>\n",
       "    <tr>\n",
       "      <th>1</th>\n",
       "      <td>Wonder Woman</td>\n",
       "      <td>294.250</td>\n",
       "    </tr>\n",
       "    <tr>\n",
       "      <th>2</th>\n",
       "      <td>Beauty and the Beast</td>\n",
       "      <td>287.250</td>\n",
       "    </tr>\n",
       "    <tr>\n",
       "      <th>3</th>\n",
       "      <td>Baby Driver</td>\n",
       "      <td>228.000</td>\n",
       "    </tr>\n",
       "    <tr>\n",
       "      <th>4</th>\n",
       "      <td>Big Hero 6</td>\n",
       "      <td>213.875</td>\n",
       "    </tr>\n",
       "    <tr>\n",
       "      <th>5</th>\n",
       "      <td>Deadpool</td>\n",
       "      <td>187.875</td>\n",
       "    </tr>\n",
       "    <tr>\n",
       "      <th>6</th>\n",
       "      <td>Guardians of the Galaxy Vol. 2</td>\n",
       "      <td>185.375</td>\n",
       "    </tr>\n",
       "    <tr>\n",
       "      <th>7</th>\n",
       "      <td>Avatar</td>\n",
       "      <td>185.125</td>\n",
       "    </tr>\n",
       "    <tr>\n",
       "      <th>8</th>\n",
       "      <td>John Wick</td>\n",
       "      <td>183.875</td>\n",
       "    </tr>\n",
       "    <tr>\n",
       "      <th>9</th>\n",
       "      <td>Gone Girl</td>\n",
       "      <td>154.750</td>\n",
       "    </tr>\n",
       "  </tbody>\n",
       "</table>\n",
       "</div>"
      ],
      "text/plain": [
       "                            title  popularity\n",
       "0                         Minions     547.500\n",
       "1                    Wonder Woman     294.250\n",
       "2            Beauty and the Beast     287.250\n",
       "3                     Baby Driver     228.000\n",
       "4                      Big Hero 6     213.875\n",
       "5                        Deadpool     187.875\n",
       "6  Guardians of the Galaxy Vol. 2     185.375\n",
       "7                          Avatar     185.125\n",
       "8                       John Wick     183.875\n",
       "9                       Gone Girl     154.750"
      ]
     },
     "execution_count": 112,
     "metadata": {},
     "output_type": "execute_result"
    }
   ],
   "source": [
    "top_10_times = movies.sort_values(by=\"popularity\", ascending=False).head(10).reset_index(drop=True)\n",
    "top_10_times[[\"title\", \"popularity\"]]"
   ]
  },
  {
   "cell_type": "code",
   "execution_count": 113,
   "id": "a0b36f11",
   "metadata": {},
   "outputs": [
    {
     "name": "stderr",
     "output_type": "stream",
     "text": [
      "C:\\Users\\eslam\\AppData\\Local\\Temp\\ipykernel_6596\\1384546078.py:1: FutureWarning: \n",
      "\n",
      "Passing `palette` without assigning `hue` is deprecated and will be removed in v0.14.0. Assign the `x` variable to `hue` and set `legend=False` for the same effect.\n",
      "\n",
      "  sns.catplot(x = \"release_year\", data=movies, kind=\"count\", palette=\"mako\")\n"
     ]
    },
    {
     "data": {
      "image/png": "[encoded data removed]",
      "text/plain": [
       "<Figure size 500x500 with 1 Axes>"
      ]
     },
     "metadata": {},
     "output_type": "display_data"
    }
   ],
   "source": [
    "sns.catplot(x = \"release_year\", data=movies, kind=\"count\", palette=\"mako\")\n",
    "plt.xlabel(\"release date\")\n",
    "plt.ylabel(\"count\")\n",
    "plt.xticks(rotation=90)\n",
    "plt.title(\"movies per year\")\n",
    "plt.show()"
   ]
  },
  {
   "cell_type": "code",
   "execution_count": 114,
   "id": "a85a9932",
   "metadata": {},
   "outputs": [
    {
     "data": {
      "application/vnd.microsoft.datawrangler.viewer.v0+json": {
       "columns": [
        {
         "name": "index",
         "rawType": "int64",
         "type": "integer"
        },
        {
         "name": "title",
         "rawType": "object",
         "type": "string"
        },
        {
         "name": "vote_count",
         "rawType": "int16",
         "type": "integer"
        }
       ],
       "ref": "047c7e69-b4f2-4509-b6a2-e6fd8d35a92e",
       "rows": [
        [
         "0",
         "Inception",
         "14075"
        ],
        [
         "1",
         "The Dark Knight",
         "12269"
        ],
        [
         "2",
         "Avatar",
         "12114"
        ],
        [
         "3",
         "The Avengers",
         "12000"
        ],
        [
         "4",
         "Deadpool",
         "11444"
        ],
        [
         "5",
         "Interstellar",
         "11187"
        ],
        [
         "6",
         "Django Unchained",
         "10297"
        ],
        [
         "7",
         "Guardians of the Galaxy",
         "10014"
        ],
        [
         "8",
         "The Hunger Games",
         "9634"
        ],
        [
         "9",
         "Mad Max: Fury Road",
         "9629"
        ]
       ],
       "shape": {
        "columns": 2,
        "rows": 10
       }
      },
      "text/html": [
       "<div>\n",
       "<style scoped>\n",
       "    .dataframe tbody tr th:only-of-type {\n",
       "        vertical-align: middle;\n",
       "    }\n",
       "\n",
       "    .dataframe tbody tr th {\n",
       "        vertical-align: top;\n",
       "    }\n",
       "\n",
       "    .dataframe thead th {\n",
       "        text-align: right;\n",
       "    }\n",
       "</style>\n",
       "<table border=\"1\" class=\"dataframe\">\n",
       "  <thead>\n",
       "    <tr style=\"text-align: right;\">\n",
       "      <th></th>\n",
       "      <th>title</th>\n",
       "      <th>vote_count</th>\n",
       "    </tr>\n",
       "  </thead>\n",
       "  <tbody>\n",
       "    <tr>\n",
       "      <th>0</th>\n",
       "      <td>Inception</td>\n",
       "      <td>14075</td>\n",
       "    </tr>\n",
       "    <tr>\n",
       "      <th>1</th>\n",
       "      <td>The Dark Knight</td>\n",
       "      <td>12269</td>\n",
       "    </tr>\n",
       "    <tr>\n",
       "      <th>2</th>\n",
       "      <td>Avatar</td>\n",
       "      <td>12114</td>\n",
       "    </tr>\n",
       "    <tr>\n",
       "      <th>3</th>\n",
       "      <td>The Avengers</td>\n",
       "      <td>12000</td>\n",
       "    </tr>\n",
       "    <tr>\n",
       "      <th>4</th>\n",
       "      <td>Deadpool</td>\n",
       "      <td>11444</td>\n",
       "    </tr>\n",
       "    <tr>\n",
       "      <th>5</th>\n",
       "      <td>Interstellar</td>\n",
       "      <td>11187</td>\n",
       "    </tr>\n",
       "    <tr>\n",
       "      <th>6</th>\n",
       "      <td>Django Unchained</td>\n",
       "      <td>10297</td>\n",
       "    </tr>\n",
       "    <tr>\n",
       "      <th>7</th>\n",
       "      <td>Guardians of the Galaxy</td>\n",
       "      <td>10014</td>\n",
       "    </tr>\n",
       "    <tr>\n",
       "      <th>8</th>\n",
       "      <td>The Hunger Games</td>\n",
       "      <td>9634</td>\n",
       "    </tr>\n",
       "    <tr>\n",
       "      <th>9</th>\n",
       "      <td>Mad Max: Fury Road</td>\n",
       "      <td>9629</td>\n",
       "    </tr>\n",
       "  </tbody>\n",
       "</table>\n",
       "</div>"
      ],
      "text/plain": [
       "                     title  vote_count\n",
       "0                Inception       14075\n",
       "1          The Dark Knight       12269\n",
       "2                   Avatar       12114\n",
       "3             The Avengers       12000\n",
       "4                 Deadpool       11444\n",
       "5             Interstellar       11187\n",
       "6         Django Unchained       10297\n",
       "7  Guardians of the Galaxy       10014\n",
       "8         The Hunger Games        9634\n",
       "9       Mad Max: Fury Road        9629"
      ]
     },
     "execution_count": 114,
     "metadata": {},
     "output_type": "execute_result"
    }
   ],
   "source": [
    "top_10_ratings = movies.sort_values(by=\"vote_count\", ascending=False).head(10).reset_index(drop=True)\n",
    "top_10_ratings[[\"title\", \"vote_count\"]]"
   ]
  },
  {
   "cell_type": "code",
   "execution_count": 115,
   "id": "8c161723",
   "metadata": {},
   "outputs": [
    {
     "name": "stderr",
     "output_type": "stream",
     "text": [
      "C:\\Users\\eslam\\AppData\\Local\\Temp\\ipykernel_6596\\630607128.py:2: FutureWarning: \n",
      "\n",
      "Passing `palette` without assigning `hue` is deprecated and will be removed in v0.14.0. Assign the `y` variable to `hue` and set `legend=False` for the same effect.\n",
      "\n",
      "  sns.barplot(x=\"vote_count\", y=\"title\", data=top_10_ratings, palette=\"mako\")\n"
     ]
    },
    {
     "data": {
      "image/png": "[encoded data removed]",
      "text/plain": [
       "<Figure size 1000x600 with 1 Axes>"
      ]
     },
     "metadata": {},
     "output_type": "display_data"
    }
   ],
   "source": [
    "plt.figure(figsize=(10,6))\n",
    "sns.barplot(x=\"vote_count\", y=\"title\", data=top_10_ratings, palette=\"mako\")\n",
    "plt.title(\"Top 10 Movies by Number of Ratings\")\n",
    "plt.xlabel(\"Number of Ratings\")\n",
    "plt.ylabel(\"Movie Title\")\n",
    "plt.show()\n"
   ]
  },
  {
   "cell_type": "code",
   "execution_count": 116,
   "id": "de9b6dbc",
   "metadata": {},
   "outputs": [
    {
     "name": "stderr",
     "output_type": "stream",
     "text": [
      "C:\\Users\\eslam\\AppData\\Local\\Temp\\ipykernel_6596\\129907003.py:4: FutureWarning: \n",
      "\n",
      "Passing `palette` without assigning `hue` is deprecated and will be removed in v0.14.0. Assign the `y` variable to `hue` and set `legend=False` for the same effect.\n",
      "\n",
      "  sns.catplot(y = \"language\",x = \"count\", data=top_languages, kind=\"bar\", palette=\"mako\")\n"
     ]
    },
    {
     "data": {
      "image/png": "[encoded data removed]",
      "text/plain": [
       "<Figure size 500x500 with 1 Axes>"
      ]
     },
     "metadata": {},
     "output_type": "display_data"
    }
   ],
   "source": [
    "top_languages = movies[\"original_language\"].value_counts().head(10).reset_index()\n",
    "top_languages.columns = [\"language\", \"count\"]\n",
    "\n",
    "sns.catplot(y = \"language\",x = \"count\", data=top_languages, kind=\"bar\", palette=\"mako\")\n",
    "plt.xlabel(\"count\")\n",
    "plt.ylabel(\"language\")\n",
    "plt.title(\"Top 10 Languages\")\n",
    "plt.show()"
   ]
  },
  {
   "cell_type": "code",
   "execution_count": 117,
   "id": "0625720b",
   "metadata": {},
   "outputs": [
    {
     "data": {
      "image/png": "[encoded data removed]",
      "text/plain": [
       "<Figure size 640x480 with 1 Axes>"
      ]
     },
     "metadata": {},
     "output_type": "display_data"
    }
   ],
   "source": [
    "sns.histplot(data=movies, x=\"vote_average\", bins=10)\n",
    "plt.xlabel(\"vote average\")\n",
    "plt.ylabel(\"count\")\n",
    "plt.title(\"Distribution of Vote Average\")\n",
    "plt.show()"
   ]
  },
  {
   "cell_type": "code",
   "execution_count": 118,
   "id": "db721d0d",
   "metadata": {},
   "outputs": [
    {
     "data": {
      "image/png": "[encoded data removed]",
      "text/plain": [
       "<Figure size 640x480 with 1 Axes>"
      ]
     },
     "metadata": {},
     "output_type": "display_data"
    }
   ],
   "source": [
    "sns.histplot(data=movies, x=\"runtime\", bins=30,log_scale=True)\n",
    "plt.xlabel(\"budget\")\n",
    "plt.ylabel(\"count\")\n",
    "plt.title(\"Distribution of Budget\")\n",
    "plt.show()"
   ]
  },
  {
   "cell_type": "markdown",
   "id": "6eb21f83",
   "metadata": {},
   "source": [
    "----"
   ]
  },
  {
   "cell_type": "markdown",
   "id": "42aa5dad",
   "metadata": {},
   "source": [
    "## **Milestone 3: Build First Model (Content-based Filtering)**"
   ]
  },
  {
   "cell_type": "code",
   "execution_count": 119,
   "id": "24609011",
   "metadata": {},
   "outputs": [
    {
     "data": {
      "application/vnd.microsoft.datawrangler.viewer.v0+json": {
       "columns": [
        {
         "name": "index",
         "rawType": "int64",
         "type": "integer"
        },
        {
         "name": "adult",
         "rawType": "bool",
         "type": "boolean"
        },
        {
         "name": "budget",
         "rawType": "int32",
         "type": "integer"
        },
        {
         "name": "movieId",
         "rawType": "int32",
         "type": "integer"
        },
        {
         "name": "imdb_id",
         "rawType": "object",
         "type": "string"
        },
        {
         "name": "original_language",
         "rawType": "object",
         "type": "string"
        },
        {
         "name": "overview",
         "rawType": "object",
         "type": "string"
        },
        {
         "name": "popularity",
         "rawType": "float16",
         "type": "float"
        },
        {
         "name": "poster_path",
         "rawType": "object",
         "type": "string"
        },
        {
         "name": "production_countries",
         "rawType": "object",
         "type": "string"
        },
        {
         "name": "revenue",
         "rawType": "int32",
         "type": "integer"
        },
        {
         "name": "runtime",
         "rawType": "int16",
         "type": "integer"
        },
        {
         "name": "status",
         "rawType": "category",
         "type": "unknown"
        },
        {
         "name": "title",
         "rawType": "object",
         "type": "string"
        },
        {
         "name": "vote_average",
         "rawType": "float16",
         "type": "float"
        },
        {
         "name": "vote_count",
         "rawType": "int16",
         "type": "integer"
        },
        {
         "name": "release_year",
         "rawType": "int32",
         "type": "integer"
        },
        {
         "name": "Action",
         "rawType": "int64",
         "type": "integer"
        },
        {
         "name": "Adventure",
         "rawType": "int64",
         "type": "integer"
        },
        {
         "name": "Animation",
         "rawType": "int64",
         "type": "integer"
        },
        {
         "name": "Comedy",
         "rawType": "int64",
         "type": "integer"
        },
        {
         "name": "Crime",
         "rawType": "int64",
         "type": "integer"
        },
        {
         "name": "Documentary",
         "rawType": "int64",
         "type": "integer"
        },
        {
         "name": "Drama",
         "rawType": "int64",
         "type": "integer"
        },
        {
         "name": "Family",
         "rawType": "int64",
         "type": "integer"
        },
        {
         "name": "Fantasy",
         "rawType": "int64",
         "type": "integer"
        },
        {
         "name": "Foreign",
         "rawType": "int64",
         "type": "integer"
        },
        {
         "name": "History",
         "rawType": "int64",
         "type": "integer"
        },
        {
         "name": "Horror",
         "rawType": "int64",
         "type": "integer"
        },
        {
         "name": "Music",
         "rawType": "int64",
         "type": "integer"
        },
        {
         "name": "Mystery",
         "rawType": "int64",
         "type": "integer"
        },
        {
         "name": "Romance",
         "rawType": "int64",
         "type": "integer"
        },
        {
         "name": "Science Fiction",
         "rawType": "int64",
         "type": "integer"
        },
        {
         "name": "TV Movie",
         "rawType": "int64",
         "type": "integer"
        },
        {
         "name": "Thriller",
         "rawType": "int64",
         "type": "integer"
        },
        {
         "name": "War",
         "rawType": "int64",
         "type": "integer"
        },
        {
         "name": "Western",
         "rawType": "int64",
         "type": "integer"
        }
       ],
       "ref": "239cb401-6fda-456e-b18a-4af9562ecb00",
       "rows": [
        [
         "0",
         "False",
         "0",
         "131232",
         "tt0333373",
         "en",
         "Two Sicilian friends, Nunzio and Pino, share the same apartment in Turin. Nunzio works in a factory but is laid off because of his illness. Pino, on the other hand, is a mysterious man and he is always traveling because of his work. Nunzio would very much like to know what his friend is doing for a living but Pino will not tell him. Nunzio spends his free time the best he can in his friend's absences. He ends up falling in love with Maria, a commercial employee, whereas his health condition deteriorates...",
         "0.00395",
         "/jo4n8M8EHedIuatB39C8EEmJBH8.jpg",
         "[{'iso_3166_1': 'IT', 'name': 'Italy'}]",
         "0",
         "86",
         "Released",
         "Two Friends",
         "0.0",
         "0",
         "2002",
         "0",
         "0",
         "0",
         "0",
         "0",
         "0",
         "1",
         "0",
         "0",
         "1",
         "0",
         "0",
         "0",
         "0",
         "0",
         "0",
         "0",
         "0",
         "0",
         "0"
        ],
        [
         "1",
         "False",
         "0",
         "79782",
         "tt1684935",
         "en",
         "An atmospheric coming-of-age story featuring an imaginative young boy named Marek who dreams of escaping an increasingly dangerous Poland on the eve of war for beautiful Venice.",
         "0.1471",
         "/lUmJiBTKdesFDkgSvV9zecCgNO6.jpg",
         "[]",
         "0",
         "110",
         "Released",
         "Venice",
         "7.5",
         "4",
         "2010",
         "0",
         "0",
         "0",
         "0",
         "0",
         "0",
         "1",
         "0",
         "0",
         "0",
         "0",
         "0",
         "0",
         "0",
         "1",
         "0",
         "0",
         "0",
         "0",
         "0"
        ],
        [
         "2",
         "False",
         "0",
         "141210",
         "tt2250194",
         "en",
         "The town of Derry has a secret, but no one told the new kid. It's gonna be a long night.",
         "0.1356",
         "/pQpyEmFTGaox4yLuUXmiD2IDIbA.jpg",
         "[]",
         "0",
         "6",
         "Released",
         "The Sleepover",
         "8.0",
         "1",
         "2013",
         "0",
         "0",
         "0",
         "1",
         "0",
         "0",
         "0",
         "0",
         "0",
         "0",
         "0",
         "1",
         "0",
         "0",
         "0",
         "0",
         "0",
         "0",
         "0",
         "0"
        ],
        [
         "3",
         "False",
         "0",
         "143750",
         "tt2140519",
         "en",
         "As her surroundings are invaded by outsiders, THE FARMER'S WIFE stoically carries out her daily tasks in preparation for what will be her final day on her farm, the only land she has known. Unable to accept this forced future, subconscious memories return that ultimately lead her to connect more to the countryside of her youth than ever before.",
         "0.2118",
         "/ePPNVWyIKYBdsGrOrYVaPKM8DlM.jpg",
         "[]",
         "0",
         "18",
         "Released",
         "The Farmer's Wife",
         "10.0",
         "1",
         "2012",
         "0",
         "0",
         "0",
         "0",
         "0",
         "0",
         "1",
         "0",
         "0",
         "0",
         "0",
         "0",
         "0",
         "0",
         "0",
         "0",
         "0",
         "0",
         "0",
         "0"
        ],
        [
         "4",
         "False",
         "0",
         "84198",
         "tt1736049",
         "en",
         "Using personal stories, this powerful documentary illuminates the plight of the 49 million Americans struggling with food insecurity. A single mother, a small-town policeman and a farmer are among those for whom putting food on the table is a daily battle.",
         "0.501",
         "/jn8L1QdWWX5c0NUOLjzaSXtZrbt.jpg",
         "[{'iso_3166_1': 'US', 'name': 'United States of America'}]",
         "0",
         "84",
         "Released",
         "A Place at the Table",
         "6.9",
         "7",
         "2012",
         "0",
         "0",
         "0",
         "0",
         "0",
         "1",
         "0",
         "0",
         "0",
         "0",
         "0",
         "0",
         "0",
         "0",
         "0",
         "0",
         "0",
         "0",
         "0",
         "0"
        ]
       ],
       "shape": {
        "columns": 36,
        "rows": 5
       }
      },
      "text/html": [
       "<div>\n",
       "<style scoped>\n",
       "    .dataframe tbody tr th:only-of-type {\n",
       "        vertical-align: middle;\n",
       "    }\n",
       "\n",
       "    .dataframe tbody tr th {\n",
       "        vertical-align: top;\n",
       "    }\n",
       "\n",
       "    .dataframe thead th {\n",
       "        text-align: right;\n",
       "    }\n",
       "</style>\n",
       "<table border=\"1\" class=\"dataframe\">\n",
       "  <thead>\n",
       "    <tr style=\"text-align: right;\">\n",
       "      <th></th>\n",
       "      <th>adult</th>\n",
       "      <th>budget</th>\n",
       "      <th>movieId</th>\n",
       "      <th>imdb_id</th>\n",
       "      <th>original_language</th>\n",
       "      <th>overview</th>\n",
       "      <th>popularity</th>\n",
       "      <th>poster_path</th>\n",
       "      <th>production_countries</th>\n",
       "      <th>revenue</th>\n",
       "      <th>...</th>\n",
       "      <th>History</th>\n",
       "      <th>Horror</th>\n",
       "      <th>Music</th>\n",
       "      <th>Mystery</th>\n",
       "      <th>Romance</th>\n",
       "      <th>Science Fiction</th>\n",
       "      <th>TV Movie</th>\n",
       "      <th>Thriller</th>\n",
       "      <th>War</th>\n",
       "      <th>Western</th>\n",
       "    </tr>\n",
       "  </thead>\n",
       "  <tbody>\n",
       "    <tr>\n",
       "      <th>0</th>\n",
       "      <td>False</td>\n",
       "      <td>0</td>\n",
       "      <td>131232</td>\n",
       "      <td>tt0333373</td>\n",
       "      <td>en</td>\n",
       "      <td>Two Sicilian friends, Nunzio and Pino, share t...</td>\n",
       "      <td>0.003948</td>\n",
       "      <td>/jo4n8M8EHedIuatB39C8EEmJBH8.jpg</td>\n",
       "      <td>[{'iso_3166_1': 'IT', 'name': 'Italy'}]</td>\n",
       "      <td>0</td>\n",
       "      <td>...</td>\n",
       "      <td>0</td>\n",
       "      <td>0</td>\n",
       "      <td>0</td>\n",
       "      <td>0</td>\n",
       "      <td>0</td>\n",
       "      <td>0</td>\n",
       "      <td>0</td>\n",
       "      <td>0</td>\n",
       "      <td>0</td>\n",
       "      <td>0</td>\n",
       "    </tr>\n",
       "    <tr>\n",
       "      <th>1</th>\n",
       "      <td>False</td>\n",
       "      <td>0</td>\n",
       "      <td>79782</td>\n",
       "      <td>tt1684935</td>\n",
       "      <td>en</td>\n",
       "      <td>An atmospheric coming-of-age story featuring a...</td>\n",
       "      <td>0.147095</td>\n",
       "      <td>/lUmJiBTKdesFDkgSvV9zecCgNO6.jpg</td>\n",
       "      <td>[]</td>\n",
       "      <td>0</td>\n",
       "      <td>...</td>\n",
       "      <td>0</td>\n",
       "      <td>0</td>\n",
       "      <td>0</td>\n",
       "      <td>0</td>\n",
       "      <td>1</td>\n",
       "      <td>0</td>\n",
       "      <td>0</td>\n",
       "      <td>0</td>\n",
       "      <td>0</td>\n",
       "      <td>0</td>\n",
       "    </tr>\n",
       "    <tr>\n",
       "      <th>2</th>\n",
       "      <td>False</td>\n",
       "      <td>0</td>\n",
       "      <td>141210</td>\n",
       "      <td>tt2250194</td>\n",
       "      <td>en</td>\n",
       "      <td>The town of Derry has a secret, but no one tol...</td>\n",
       "      <td>0.135620</td>\n",
       "      <td>/pQpyEmFTGaox4yLuUXmiD2IDIbA.jpg</td>\n",
       "      <td>[]</td>\n",
       "      <td>0</td>\n",
       "      <td>...</td>\n",
       "      <td>0</td>\n",
       "      <td>1</td>\n",
       "      <td>0</td>\n",
       "      <td>0</td>\n",
       "      <td>0</td>\n",
       "      <td>0</td>\n",
       "      <td>0</td>\n",
       "      <td>0</td>\n",
       "      <td>0</td>\n",
       "      <td>0</td>\n",
       "    </tr>\n",
       "    <tr>\n",
       "      <th>3</th>\n",
       "      <td>False</td>\n",
       "      <td>0</td>\n",
       "      <td>143750</td>\n",
       "      <td>tt2140519</td>\n",
       "      <td>en</td>\n",
       "      <td>As her surroundings are invaded by outsiders, ...</td>\n",
       "      <td>0.211792</td>\n",
       "      <td>/ePPNVWyIKYBdsGrOrYVaPKM8DlM.jpg</td>\n",
       "      <td>[]</td>\n",
       "      <td>0</td>\n",
       "      <td>...</td>\n",
       "      <td>0</td>\n",
       "      <td>0</td>\n",
       "      <td>0</td>\n",
       "      <td>0</td>\n",
       "      <td>0</td>\n",
       "      <td>0</td>\n",
       "      <td>0</td>\n",
       "      <td>0</td>\n",
       "      <td>0</td>\n",
       "      <td>0</td>\n",
       "    </tr>\n",
       "    <tr>\n",
       "      <th>4</th>\n",
       "      <td>False</td>\n",
       "      <td>0</td>\n",
       "      <td>84198</td>\n",
       "      <td>tt1736049</td>\n",
       "      <td>en</td>\n",
       "      <td>Using personal stories, this powerful document...</td>\n",
       "      <td>0.500977</td>\n",
       "      <td>/jn8L1QdWWX5c0NUOLjzaSXtZrbt.jpg</td>\n",
       "      <td>[{'iso_3166_1': 'US', 'name': 'United States o...</td>\n",
       "      <td>0</td>\n",
       "      <td>...</td>\n",
       "      <td>0</td>\n",
       "      <td>0</td>\n",
       "      <td>0</td>\n",
       "      <td>0</td>\n",
       "      <td>0</td>\n",
       "      <td>0</td>\n",
       "      <td>0</td>\n",
       "      <td>0</td>\n",
       "      <td>0</td>\n",
       "      <td>0</td>\n",
       "    </tr>\n",
       "  </tbody>\n",
       "</table>\n",
       "<p>5 rows × 36 columns</p>\n",
       "</div>"
      ],
      "text/plain": [
       "   adult  budget  movieId    imdb_id original_language  \\\n",
       "0  False       0   131232  tt0333373                en   \n",
       "1  False       0    79782  tt1684935                en   \n",
       "2  False       0   141210  tt2250194                en   \n",
       "3  False       0   143750  tt2140519                en   \n",
       "4  False       0    84198  tt1736049                en   \n",
       "\n",
       "                                            overview  popularity  \\\n",
       "0  Two Sicilian friends, Nunzio and Pino, share t...    0.003948   \n",
       "1  An atmospheric coming-of-age story featuring a...    0.147095   \n",
       "2  The town of Derry has a secret, but no one tol...    0.135620   \n",
       "3  As her surroundings are invaded by outsiders, ...    0.211792   \n",
       "4  Using personal stories, this powerful document...    0.500977   \n",
       "\n",
       "                        poster_path  \\\n",
       "0  /jo4n8M8EHedIuatB39C8EEmJBH8.jpg   \n",
       "1  /lUmJiBTKdesFDkgSvV9zecCgNO6.jpg   \n",
       "2  /pQpyEmFTGaox4yLuUXmiD2IDIbA.jpg   \n",
       "3  /ePPNVWyIKYBdsGrOrYVaPKM8DlM.jpg   \n",
       "4  /jn8L1QdWWX5c0NUOLjzaSXtZrbt.jpg   \n",
       "\n",
       "                                production_countries  revenue  ...  History  \\\n",
       "0            [{'iso_3166_1': 'IT', 'name': 'Italy'}]        0  ...        0   \n",
       "1                                                 []        0  ...        0   \n",
       "2                                                 []        0  ...        0   \n",
       "3                                                 []        0  ...        0   \n",
       "4  [{'iso_3166_1': 'US', 'name': 'United States o...        0  ...        0   \n",
       "\n",
       "  Horror Music  Mystery  Romance  Science Fiction  TV Movie  Thriller  War  \\\n",
       "0      0     0        0        0                0         0         0    0   \n",
       "1      0     0        0        1                0         0         0    0   \n",
       "2      1     0        0        0                0         0         0    0   \n",
       "3      0     0        0        0                0         0         0    0   \n",
       "4      0     0        0        0                0         0         0    0   \n",
       "\n",
       "   Western  \n",
       "0        0  \n",
       "1        0  \n",
       "2        0  \n",
       "3        0  \n",
       "4        0  \n",
       "\n",
       "[5 rows x 36 columns]"
      ]
     },
     "execution_count": 119,
     "metadata": {},
     "output_type": "execute_result"
    }
   ],
   "source": [
    "movies.head()"
   ]
  },
  {
   "cell_type": "code",
   "execution_count": 120,
   "id": "df4558e0",
   "metadata": {},
   "outputs": [
    {
     "data": {
      "text/plain": [
       "Index(['adult', 'budget', 'movieId', 'imdb_id', 'original_language',\n",
       "       'overview', 'popularity', 'poster_path', 'production_countries',\n",
       "       'revenue', 'runtime', 'status', 'title', 'vote_average', 'vote_count',\n",
       "       'release_year', 'Action', 'Adventure', 'Animation', 'Comedy', 'Crime',\n",
       "       'Documentary', 'Drama', 'Family', 'Fantasy', 'Foreign', 'History',\n",
       "       'Horror', 'Music', 'Mystery', 'Romance', 'Science Fiction', 'TV Movie',\n",
       "       'Thriller', 'War', 'Western'],\n",
       "      dtype='object')"
      ]
     },
     "execution_count": 120,
     "metadata": {},
     "output_type": "execute_result"
    }
   ],
   "source": [
    "movies.columns"
   ]
  },
  {
   "cell_type": "code",
   "execution_count": null,
   "id": "ab41c58e",
   "metadata": {},
   "outputs": [],
   "source": [
    "import re\n",
    "\n",
    "def get_root_title(title):\n",
    "    root = re.sub(r'\\(\\d{4}\\)', '', title)\n",
    "    root = re.sub(r'\\d+$', '', root).strip()\n",
    "    return root\n",
    "\n",
    "movies[\"root_title\"] = movies[\"title\"].apply(get_root_title)"
   ]
  },
  {
   "cell_type": "code",
   "execution_count": null,
   "id": "1a11d30a",
   "metadata": {},
   "outputs": [
    {
     "name": "stdout",
     "output_type": "stream",
     "text": [
      "Shapes:\n",
      "Genres: (23243, 20)\n",
      "Numerics: (23243, 4)\n",
      "Overview: (23243, 5000)\n"
     ]
    }
   ],
   "source": [
    "from sklearn.preprocessing import MinMaxScaler\n",
    "from sklearn.feature_extraction.text import TfidfVectorizer\n",
    "\n",
    "genre_cols = ['Action','Adventure','Animation','Comedy','Crime','Documentary','Drama',\n",
    "              'Family','Fantasy','Foreign','History','Horror','Music','Mystery',\n",
    "              'Romance','Science Fiction','TV Movie','Thriller','War','Western']\n",
    "X_genres = movies[genre_cols].values\n",
    "\n",
    "num_cols = ['popularity', 'vote_average', 'vote_count', 'runtime']\n",
    "scaler = MinMaxScaler()\n",
    "X_num = scaler.fit_transform(movies[num_cols].fillna(0))\n",
    "\n",
    "tfidf = TfidfVectorizer(stop_words=\"english\", max_features=5000)\n",
    "X_overview = tfidf.fit_transform(movies[\"overview\"].fillna(\"\"))\n",
    "\n",
    "print(\"Shapes:\")\n",
    "print(\"Genres:\", X_genres.shape)\n",
    "print(\"Numerics:\", X_num.shape)\n",
    "print(\"Overview:\", X_overview.shape)"
   ]
  },
  {
   "cell_type": "code",
   "execution_count": 123,
   "id": "fe6fe411",
   "metadata": {},
   "outputs": [
    {
     "name": "stdout",
     "output_type": "stream",
     "text": [
      "Final matrix shape: (23243, 5024)\n"
     ]
    }
   ],
   "source": [
    "from scipy.sparse import hstack, csr_matrix\n",
    "import numpy as np\n",
    "\n",
    "w_genres   = 1.0\n",
    "w_numerics = 0.5\n",
    "w_overview = 2.0\n",
    "\n",
    "X_dense = np.hstack([\n",
    "    X_genres * w_genres,\n",
    "    X_num    * w_numerics\n",
    "])\n",
    "\n",
    "X_sparse = csr_matrix(X_dense)\n",
    "X_full = hstack([X_sparse, X_overview * w_overview])\n",
    "\n",
    "print(\"Final matrix shape:\", X_full.shape)\n"
   ]
  },
  {
   "cell_type": "code",
   "execution_count": 124,
   "id": "79a2c266",
   "metadata": {},
   "outputs": [],
   "source": [
    "from sklearn.metrics.pairwise import cosine_similarity\n",
    "\n",
    "indices = pd.Series(movies.index, index=movies['title']).drop_duplicates()\n",
    "\n",
    "def recommend(title, top_n=20):\n",
    "    title = title.strip()\n",
    "    if title not in indices:\n",
    "        return f\"⚠️ Title not found: {title}\"\n",
    "    \n",
    "    idx = indices[title]\n",
    "    root = movies.loc[idx, \"root_title\"]\n",
    "\n",
    "    same_series = movies[movies[\"root_title\"] == root].copy()\n",
    "    same_series = same_series[same_series[\"title\"] != title]\n",
    "\n",
    "    target_vec = X_full[idx]\n",
    "    sims = cosine_similarity(target_vec, X_full).flatten()\n",
    "    sims[idx] = -1  \n",
    "\n",
    "    top_indices = sims.argsort()[::-1]\n",
    "    recs = movies.loc[top_indices, ['title','release_year','vote_average','popularity']].copy()\n",
    "    recs[\"similarity\"] = sims[top_indices]\n",
    "\n",
    "    final_results = pd.concat([\n",
    "        same_series[['title','release_year','vote_average','popularity']].assign(similarity=1.0),\n",
    "        recs\n",
    "    ])\n",
    "\n",
    "    final_results = final_results.drop_duplicates(subset=\"title\").head(top_n).reset_index(drop=True)\n",
    "\n",
    "    return final_results"
   ]
  },
  {
   "cell_type": "code",
   "execution_count": 125,
   "id": "0883d6cf",
   "metadata": {},
   "outputs": [
    {
     "data": {
      "application/vnd.microsoft.datawrangler.viewer.v0+json": {
       "columns": [
        {
         "name": "index",
         "rawType": "int64",
         "type": "integer"
        },
        {
         "name": "title",
         "rawType": "object",
         "type": "string"
        },
        {
         "name": "release_year",
         "rawType": "int32",
         "type": "integer"
        },
        {
         "name": "vote_average",
         "rawType": "float16",
         "type": "float"
        },
        {
         "name": "popularity",
         "rawType": "float16",
         "type": "float"
        },
        {
         "name": "similarity",
         "rawType": "float64",
         "type": "float"
        }
       ],
       "ref": "5560f471-31c4-45cd-b38c-4d2ac32d3864",
       "rows": [
        [
         "0",
         "Yes or No 2",
         "2012",
         "6.5",
         "0.963",
         "1.0"
        ],
        [
         "1",
         "Jasminum",
         "2006",
         "6.0",
         "0.0535",
         "0.5903491244952314"
        ],
        [
         "2",
         "Afstiros katallilo",
         "2008",
         "7.5",
         "0.234",
         "0.4324692090873631"
        ],
        [
         "3",
         "Love, Rosie",
         "2014",
         "7.7",
         "14.56",
         "0.43192041018922855"
        ],
        [
         "4",
         "Steal My Heart",
         "2013",
         "6.8",
         "1.679",
         "0.4316556787132822"
        ],
        [
         "5",
         "The Island 2: The Hunt for the Lost Treasure",
         "2011",
         "6.3",
         "0.2715",
         "0.43164890053109406"
        ],
        [
         "6",
         "Lars and the Real Girl",
         "2007",
         "7.1",
         "8.02",
         "0.43159352255584"
        ],
        [
         "7",
         "The Leaning Tower",
         "2006",
         "5.7",
         "0.4016",
         "0.4307417355217837"
        ],
        [
         "8",
         "What If",
         "2013",
         "6.7",
         "10.84",
         "0.42281271003671184"
        ],
        [
         "9",
         "Ceremony",
         "2010",
         "5.2",
         "4.188",
         "0.4182188716783991"
        ],
        [
         "10",
         "Wild Roomies",
         "2004",
         "5.3",
         "0.8975",
         "0.4176410752038718"
        ],
        [
         "11",
         "Pizza",
         "2005",
         "5.8",
         "1.062",
         "0.41743220138389026"
        ],
        [
         "12",
         "Say It Isn't So",
         "2001",
         "4.8",
         "3.654",
         "0.41699893674634564"
        ],
        [
         "13",
         "Cinderella",
         "2012",
         "4.6",
         "0.8037",
         "0.41678642010170874"
        ],
        [
         "14",
         "The To Do List",
         "2013",
         "5.5",
         "7.082",
         "0.41512391093845313"
        ],
        [
         "15",
         "The Biggest Fan",
         "2002",
         "6.0",
         "0.2544",
         "0.4146679114103822"
        ],
        [
         "16",
         "Happythankyoumoreplease",
         "2010",
         "6.4",
         "9.67",
         "0.41461412491331134"
        ],
        [
         "17",
         "Girlfriend Boyfriend",
         "2012",
         "6.2",
         "1.079",
         "0.41352376309813443"
        ],
        [
         "18",
         "Chalet Girl",
         "2011",
         "6.4",
         "6.496",
         "0.4111804975831899"
        ],
        [
         "19",
         "Spellbound",
         "2011",
         "6.8",
         "1.996",
         "0.410588690859599"
        ]
       ],
       "shape": {
        "columns": 5,
        "rows": 20
       }
      },
      "text/html": [
       "<div>\n",
       "<style scoped>\n",
       "    .dataframe tbody tr th:only-of-type {\n",
       "        vertical-align: middle;\n",
       "    }\n",
       "\n",
       "    .dataframe tbody tr th {\n",
       "        vertical-align: top;\n",
       "    }\n",
       "\n",
       "    .dataframe thead th {\n",
       "        text-align: right;\n",
       "    }\n",
       "</style>\n",
       "<table border=\"1\" class=\"dataframe\">\n",
       "  <thead>\n",
       "    <tr style=\"text-align: right;\">\n",
       "      <th></th>\n",
       "      <th>title</th>\n",
       "      <th>release_year</th>\n",
       "      <th>vote_average</th>\n",
       "      <th>popularity</th>\n",
       "      <th>similarity</th>\n",
       "    </tr>\n",
       "  </thead>\n",
       "  <tbody>\n",
       "    <tr>\n",
       "      <th>0</th>\n",
       "      <td>Yes or No 2</td>\n",
       "      <td>2012</td>\n",
       "      <td>6.500000</td>\n",
       "      <td>0.962891</td>\n",
       "      <td>1.000000</td>\n",
       "    </tr>\n",
       "    <tr>\n",
       "      <th>1</th>\n",
       "      <td>Jasminum</td>\n",
       "      <td>2006</td>\n",
       "      <td>6.000000</td>\n",
       "      <td>0.053497</td>\n",
       "      <td>0.590349</td>\n",
       "    </tr>\n",
       "    <tr>\n",
       "      <th>2</th>\n",
       "      <td>Afstiros katallilo</td>\n",
       "      <td>2008</td>\n",
       "      <td>7.500000</td>\n",
       "      <td>0.234009</td>\n",
       "      <td>0.432469</td>\n",
       "    </tr>\n",
       "    <tr>\n",
       "      <th>3</th>\n",
       "      <td>Love, Rosie</td>\n",
       "      <td>2014</td>\n",
       "      <td>7.699219</td>\n",
       "      <td>14.562500</td>\n",
       "      <td>0.431920</td>\n",
       "    </tr>\n",
       "    <tr>\n",
       "      <th>4</th>\n",
       "      <td>Steal My Heart</td>\n",
       "      <td>2013</td>\n",
       "      <td>6.800781</td>\n",
       "      <td>1.678711</td>\n",
       "      <td>0.431656</td>\n",
       "    </tr>\n",
       "    <tr>\n",
       "      <th>5</th>\n",
       "      <td>The Island 2: The Hunt for the Lost Treasure</td>\n",
       "      <td>2011</td>\n",
       "      <td>6.300781</td>\n",
       "      <td>0.271484</td>\n",
       "      <td>0.431649</td>\n",
       "    </tr>\n",
       "    <tr>\n",
       "      <th>6</th>\n",
       "      <td>Lars and the Real Girl</td>\n",
       "      <td>2007</td>\n",
       "      <td>7.101562</td>\n",
       "      <td>8.023438</td>\n",
       "      <td>0.431594</td>\n",
       "    </tr>\n",
       "    <tr>\n",
       "      <th>7</th>\n",
       "      <td>The Leaning Tower</td>\n",
       "      <td>2006</td>\n",
       "      <td>5.699219</td>\n",
       "      <td>0.401611</td>\n",
       "      <td>0.430742</td>\n",
       "    </tr>\n",
       "    <tr>\n",
       "      <th>8</th>\n",
       "      <td>What If</td>\n",
       "      <td>2013</td>\n",
       "      <td>6.699219</td>\n",
       "      <td>10.843750</td>\n",
       "      <td>0.422813</td>\n",
       "    </tr>\n",
       "    <tr>\n",
       "      <th>9</th>\n",
       "      <td>Ceremony</td>\n",
       "      <td>2010</td>\n",
       "      <td>5.199219</td>\n",
       "      <td>4.187500</td>\n",
       "      <td>0.418219</td>\n",
       "    </tr>\n",
       "    <tr>\n",
       "      <th>10</th>\n",
       "      <td>Wild Roomies</td>\n",
       "      <td>2004</td>\n",
       "      <td>5.300781</td>\n",
       "      <td>0.897461</td>\n",
       "      <td>0.417641</td>\n",
       "    </tr>\n",
       "    <tr>\n",
       "      <th>11</th>\n",
       "      <td>Pizza</td>\n",
       "      <td>2005</td>\n",
       "      <td>5.800781</td>\n",
       "      <td>1.061523</td>\n",
       "      <td>0.417432</td>\n",
       "    </tr>\n",
       "    <tr>\n",
       "      <th>12</th>\n",
       "      <td>Say It Isn't So</td>\n",
       "      <td>2001</td>\n",
       "      <td>4.800781</td>\n",
       "      <td>3.654297</td>\n",
       "      <td>0.416999</td>\n",
       "    </tr>\n",
       "    <tr>\n",
       "      <th>13</th>\n",
       "      <td>Cinderella</td>\n",
       "      <td>2012</td>\n",
       "      <td>4.601562</td>\n",
       "      <td>0.803711</td>\n",
       "      <td>0.416786</td>\n",
       "    </tr>\n",
       "    <tr>\n",
       "      <th>14</th>\n",
       "      <td>The To Do List</td>\n",
       "      <td>2013</td>\n",
       "      <td>5.500000</td>\n",
       "      <td>7.082031</td>\n",
       "      <td>0.415124</td>\n",
       "    </tr>\n",
       "    <tr>\n",
       "      <th>15</th>\n",
       "      <td>The Biggest Fan</td>\n",
       "      <td>2002</td>\n",
       "      <td>6.000000</td>\n",
       "      <td>0.254395</td>\n",
       "      <td>0.414668</td>\n",
       "    </tr>\n",
       "    <tr>\n",
       "      <th>16</th>\n",
       "      <td>Happythankyoumoreplease</td>\n",
       "      <td>2010</td>\n",
       "      <td>6.398438</td>\n",
       "      <td>9.671875</td>\n",
       "      <td>0.414614</td>\n",
       "    </tr>\n",
       "    <tr>\n",
       "      <th>17</th>\n",
       "      <td>Girlfriend Boyfriend</td>\n",
       "      <td>2012</td>\n",
       "      <td>6.199219</td>\n",
       "      <td>1.079102</td>\n",
       "      <td>0.413524</td>\n",
       "    </tr>\n",
       "    <tr>\n",
       "      <th>18</th>\n",
       "      <td>Chalet Girl</td>\n",
       "      <td>2011</td>\n",
       "      <td>6.398438</td>\n",
       "      <td>6.496094</td>\n",
       "      <td>0.411180</td>\n",
       "    </tr>\n",
       "    <tr>\n",
       "      <th>19</th>\n",
       "      <td>Spellbound</td>\n",
       "      <td>2011</td>\n",
       "      <td>6.800781</td>\n",
       "      <td>1.996094</td>\n",
       "      <td>0.410589</td>\n",
       "    </tr>\n",
       "  </tbody>\n",
       "</table>\n",
       "</div>"
      ],
      "text/plain": [
       "                                           title  release_year  vote_average  \\\n",
       "0                                    Yes or No 2          2012      6.500000   \n",
       "1                                       Jasminum          2006      6.000000   \n",
       "2                             Afstiros katallilo          2008      7.500000   \n",
       "3                                    Love, Rosie          2014      7.699219   \n",
       "4                                 Steal My Heart          2013      6.800781   \n",
       "5   The Island 2: The Hunt for the Lost Treasure          2011      6.300781   \n",
       "6                         Lars and the Real Girl          2007      7.101562   \n",
       "7                              The Leaning Tower          2006      5.699219   \n",
       "8                                        What If          2013      6.699219   \n",
       "9                                       Ceremony          2010      5.199219   \n",
       "10                                  Wild Roomies          2004      5.300781   \n",
       "11                                         Pizza          2005      5.800781   \n",
       "12                               Say It Isn't So          2001      4.800781   \n",
       "13                                    Cinderella          2012      4.601562   \n",
       "14                                The To Do List          2013      5.500000   \n",
       "15                               The Biggest Fan          2002      6.000000   \n",
       "16                       Happythankyoumoreplease          2010      6.398438   \n",
       "17                          Girlfriend Boyfriend          2012      6.199219   \n",
       "18                                   Chalet Girl          2011      6.398438   \n",
       "19                                    Spellbound          2011      6.800781   \n",
       "\n",
       "    popularity  similarity  \n",
       "0     0.962891    1.000000  \n",
       "1     0.053497    0.590349  \n",
       "2     0.234009    0.432469  \n",
       "3    14.562500    0.431920  \n",
       "4     1.678711    0.431656  \n",
       "5     0.271484    0.431649  \n",
       "6     8.023438    0.431594  \n",
       "7     0.401611    0.430742  \n",
       "8    10.843750    0.422813  \n",
       "9     4.187500    0.418219  \n",
       "10    0.897461    0.417641  \n",
       "11    1.061523    0.417432  \n",
       "12    3.654297    0.416999  \n",
       "13    0.803711    0.416786  \n",
       "14    7.082031    0.415124  \n",
       "15    0.254395    0.414668  \n",
       "16    9.671875    0.414614  \n",
       "17    1.079102    0.413524  \n",
       "18    6.496094    0.411180  \n",
       "19    1.996094    0.410589  "
      ]
     },
     "execution_count": 125,
     "metadata": {},
     "output_type": "execute_result"
    }
   ],
   "source": [
    "recommend(\"Yes or No\", top_n=20)"
   ]
  },
  {
   "cell_type": "code",
   "execution_count": 127,
   "id": "11aabd62",
   "metadata": {},
   "outputs": [],
   "source": [
    "import joblib\n",
    "\n",
    "data = {\n",
    "    \"movies\": movies,\n",
    "    \"X_full\": X_full,\n",
    "    \"indices\": indices,\n",
    "    \"tfidf\": tfidf,\n",
    "}\n",
    "\n",
    "with open(\"model.joblib\", \"wb\") as f:\n",
    "    joblib.dump(data, f)"
   ]
  }
 ],
 "metadata": {
  "kernelspec": {
   "display_name": "Python 3",
   "language": "python",
   "name": "python3"
  },
  "language_info": {
   "codemirror_mode": {
    "name": "ipython",
    "version": 3
   },
   "file_extension": ".py",
   "mimetype": "text/x-python",
   "name": "python",
   "nbconvert_exporter": "python",
   "pygments_lexer": "ipython3",
   "version": "3.12.7"
  }
 },
 "nbformat": 4,
 "nbformat_minor": 5
}
